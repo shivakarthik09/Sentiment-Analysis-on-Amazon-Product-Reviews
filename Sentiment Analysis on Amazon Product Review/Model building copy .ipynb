{
 "cells": [
  {
   "cell_type": "code",
   "execution_count": 70,
   "id": "e8f83234",
   "metadata": {},
   "outputs": [],
   "source": [
    "import numpy as np\n",
    "import pandas as pd\n",
    "\n",
    "import matplotlib.pyplot as plt\n",
    "import seaborn as sns"
   ]
  },
  {
   "cell_type": "code",
   "execution_count": null,
   "id": "8fb04dff",
   "metadata": {},
   "outputs": [],
   "source": [
    "df = pd.read_csv('datafinalcleaned1.csv')"
   ]
  },
  {
   "cell_type": "code",
   "execution_count": 5,
   "id": "7295b03d",
   "metadata": {},
   "outputs": [],
   "source": [
    "del df['Unnamed: 0']"
   ]
  },
  {
   "cell_type": "markdown",
   "id": "5b7c19b5",
   "metadata": {},
   "source": [
    "# Data Preparation - Split the data into train and test set"
   ]
  },
  {
   "cell_type": "code",
   "execution_count": 6,
   "id": "2f3a4977",
   "metadata": {},
   "outputs": [],
   "source": [
    "y=df['Score']\n",
    "X=df[['ReviewText']]"
   ]
  },
  {
   "cell_type": "code",
   "execution_count": 7,
   "id": "92beb2c1",
   "metadata": {},
   "outputs": [
    {
     "data": {
      "text/html": [
       "<div>\n",
       "<style scoped>\n",
       "    .dataframe tbody tr th:only-of-type {\n",
       "        vertical-align: middle;\n",
       "    }\n",
       "\n",
       "    .dataframe tbody tr th {\n",
       "        vertical-align: top;\n",
       "    }\n",
       "\n",
       "    .dataframe thead th {\n",
       "        text-align: right;\n",
       "    }\n",
       "</style>\n",
       "<table border=\"1\" class=\"dataframe\">\n",
       "  <thead>\n",
       "    <tr style=\"text-align: right;\">\n",
       "      <th></th>\n",
       "      <th>ReviewText</th>\n",
       "    </tr>\n",
       "  </thead>\n",
       "  <tbody>\n",
       "    <tr>\n",
       "      <th>0</th>\n",
       "      <td>I have bought several of the Vitality canned ...</td>\n",
       "    </tr>\n",
       "    <tr>\n",
       "      <th>1</th>\n",
       "      <td>This is a very healthy dog food Good for thei...</td>\n",
       "    </tr>\n",
       "    <tr>\n",
       "      <th>2</th>\n",
       "      <td>I fed this to my Golden Retriever and he hate...</td>\n",
       "    </tr>\n",
       "    <tr>\n",
       "      <th>3</th>\n",
       "      <td>I have to admit I was a sucker for the large ...</td>\n",
       "    </tr>\n",
       "    <tr>\n",
       "      <th>4</th>\n",
       "      <td>We have a 7 week old He had gas and constipat...</td>\n",
       "    </tr>\n",
       "  </tbody>\n",
       "</table>\n",
       "</div>"
      ],
      "text/plain": [
       "                                          ReviewText\n",
       "0   I have bought several of the Vitality canned ...\n",
       "1   This is a very healthy dog food Good for thei...\n",
       "2   I fed this to my Golden Retriever and he hate...\n",
       "3   I have to admit I was a sucker for the large ...\n",
       "4   We have a 7 week old He had gas and constipat..."
      ]
     },
     "execution_count": 7,
     "metadata": {},
     "output_type": "execute_result"
    }
   ],
   "source": [
    "X.head()"
   ]
  },
  {
   "cell_type": "code",
   "execution_count": 8,
   "id": "feb081db",
   "metadata": {},
   "outputs": [],
   "source": [
    "#spliting into train and test\n",
    "from sklearn.model_selection import train_test_split\n",
    "X_train, X_test, y_train, y_test = train_test_split(X, y, test_size=0.25, random_state=50)"
   ]
  },
  {
   "cell_type": "code",
   "execution_count": 9,
   "id": "c7bd859e",
   "metadata": {},
   "outputs": [
    {
     "data": {
      "text/html": [
       "<div>\n",
       "<style scoped>\n",
       "    .dataframe tbody tr th:only-of-type {\n",
       "        vertical-align: middle;\n",
       "    }\n",
       "\n",
       "    .dataframe tbody tr th {\n",
       "        vertical-align: top;\n",
       "    }\n",
       "\n",
       "    .dataframe thead th {\n",
       "        text-align: right;\n",
       "    }\n",
       "</style>\n",
       "<table border=\"1\" class=\"dataframe\">\n",
       "  <thead>\n",
       "    <tr style=\"text-align: right;\">\n",
       "      <th></th>\n",
       "      <th>ReviewText</th>\n",
       "    </tr>\n",
       "  </thead>\n",
       "  <tbody>\n",
       "    <tr>\n",
       "      <th>447215</th>\n",
       "      <td>It is good and soothing to drink I have not t...</td>\n",
       "    </tr>\n",
       "    <tr>\n",
       "      <th>253653</th>\n",
       "      <td>Whenever I need something a little special fo...</td>\n",
       "    </tr>\n",
       "    <tr>\n",
       "      <th>566123</th>\n",
       "      <td>I bought this almost a month ago and my dog a...</td>\n",
       "    </tr>\n",
       "    <tr>\n",
       "      <th>381706</th>\n",
       "      <td>Extract is listed as an ingredient Sounds har...</td>\n",
       "    </tr>\n",
       "    <tr>\n",
       "      <th>547077</th>\n",
       "      <td>I purchased these nuts as a gift and was disa...</td>\n",
       "    </tr>\n",
       "  </tbody>\n",
       "</table>\n",
       "</div>"
      ],
      "text/plain": [
       "                                               ReviewText\n",
       "447215   It is good and soothing to drink I have not t...\n",
       "253653   Whenever I need something a little special fo...\n",
       "566123   I bought this almost a month ago and my dog a...\n",
       "381706   Extract is listed as an ingredient Sounds har...\n",
       "547077   I purchased these nuts as a gift and was disa..."
      ]
     },
     "execution_count": 9,
     "metadata": {},
     "output_type": "execute_result"
    }
   ],
   "source": [
    "X_train.head()"
   ]
  },
  {
   "cell_type": "markdown",
   "id": "7d619a8d",
   "metadata": {},
   "source": [
    "# Data Prepration - Text Preprocessing"
   ]
  },
  {
   "cell_type": "code",
   "execution_count": 10,
   "id": "80867b07",
   "metadata": {},
   "outputs": [],
   "source": [
    "import re\n",
    "import nltk\n",
    "from nltk.tokenize import word_tokenize\n",
    "from nltk.corpus import stopwords\n",
    "from nltk.stem.porter import PorterStemmer\n",
    "from nltk.stem import WordNetLemmatizer"
   ]
  },
  {
   "cell_type": "code",
   "execution_count": 11,
   "id": "f3b7365a",
   "metadata": {},
   "outputs": [],
   "source": [
    "## initialise the inbuilt Stemmer\n",
    "stemmer = PorterStemmer()\n",
    "## We can also use Lemmatizer instead of Stemmer\n",
    "lemmatizer = WordNetLemmatizer()\n"
   ]
  },
  {
   "cell_type": "markdown",
   "id": "2480b95a",
   "metadata": {},
   "source": [
    "# Step by Step explanation of Preprocessing"
   ]
  },
  {
   "cell_type": "code",
   "execution_count": 12,
   "id": "64211f71",
   "metadata": {},
   "outputs": [
    {
     "data": {
      "text/plain": [
       "'I was buying my white pepper from a gourmet store and 6 ounces cost This pepper is just as good at a fraction of the price'"
      ]
     },
     "execution_count": 12,
     "metadata": {},
     "output_type": "execute_result"
    }
   ],
   "source": [
    "raw_text = 'I was buying my white pepper from a gourmet store and 6 ounces cost This pepper is just as good at a fraction of the price'\n",
    "raw_text"
   ]
  },
  {
   "cell_type": "code",
   "execution_count": 13,
   "id": "d3a73f9e",
   "metadata": {},
   "outputs": [
    {
     "name": "stdout",
     "output_type": "stream",
     "text": [
      "I was buying my white pepper from a gourmet store and   ounces cost This pepper is just as good at a fraction of the price\n"
     ]
    }
   ],
   "source": [
    "\n",
    "sentence = re.sub(\"[^a-zA-Z]\", \" \", raw_text)\n",
    "print(sentence)"
   ]
  },
  {
   "cell_type": "code",
   "execution_count": 14,
   "id": "cb773b9d",
   "metadata": {},
   "outputs": [
    {
     "name": "stdout",
     "output_type": "stream",
     "text": [
      "i was buying my white pepper from a gourmet store and   ounces cost this pepper is just as good at a fraction of the price\n"
     ]
    }
   ],
   "source": [
    "\n",
    "sentence = sentence.lower()\n",
    "print(sentence)"
   ]
  },
  {
   "cell_type": "code",
   "execution_count": 15,
   "id": "2c99af14",
   "metadata": {},
   "outputs": [
    {
     "name": "stdout",
     "output_type": "stream",
     "text": [
      "['i', 'was', 'buying', 'my', 'white', 'pepper', 'from', 'a', 'gourmet', 'store', 'and', 'ounces', 'cost', 'this', 'pepper', 'is', 'just', 'as', 'good', 'at', 'a', 'fraction', 'of', 'the', 'price']\n"
     ]
    }
   ],
   "source": [
    "\n",
    "tokens = sentence.split()\n",
    "print(tokens)"
   ]
  },
  {
   "cell_type": "code",
   "execution_count": 16,
   "id": "ae64f0b0",
   "metadata": {},
   "outputs": [
    {
     "name": "stdout",
     "output_type": "stream",
     "text": [
      "['buying', 'white', 'pepper', 'gourmet', 'store', 'ounces', 'cost', 'pepper', 'good', 'fraction', 'price']\n"
     ]
    }
   ],
   "source": [
    "\n",
    "clean_tokens = [t for t in tokens if t not in stopwords.words(\"english\")]\n",
    "print(clean_tokens)"
   ]
  },
  {
   "cell_type": "code",
   "execution_count": 17,
   "id": "b5bddd1b",
   "metadata": {},
   "outputs": [
    {
     "name": "stdout",
     "output_type": "stream",
     "text": [
      "['buy', 'white', 'pepper', 'gourmet', 'store', 'ounc', 'cost', 'pepper', 'good', 'fraction', 'price']\n"
     ]
    }
   ],
   "source": [
    "\n",
    "clean_tokens_stem = [stemmer.stem(word) for word in clean_tokens]\n",
    "print(clean_tokens_stem)"
   ]
  },
  {
   "cell_type": "code",
   "execution_count": 18,
   "id": "05436f85",
   "metadata": {},
   "outputs": [
    {
     "name": "stdout",
     "output_type": "stream",
     "text": [
      "['buying', 'white', 'pepper', 'gourmet', 'store', 'ounce', 'cost', 'pepper', 'good', 'fraction', 'price']\n"
     ]
    }
   ],
   "source": [
    "\n",
    "clean_tokens_lem = [lemmatizer.lemmatize(word) for word in clean_tokens]\n",
    "print(clean_tokens_lem)"
   ]
  },
  {
   "cell_type": "code",
   "execution_count": 88,
   "id": "b3297d83",
   "metadata": {},
   "outputs": [],
   "source": [
    "def preprocess(raw_text, flag):\n",
    "    # Removing special characters and digits\n",
    "    sentence = re.sub(\"[^a-zA-Z]\", \" \", raw_text)\n",
    "    \n",
    "    # change sentence to lower case\n",
    "    sentence = sentence.lower()\n",
    "\n",
    "    # tokenize into words\n",
    "    tokens = sentence.split()\n",
    "    \n",
    "    # remove stop words                \n",
    "    clean_tokens = [t for t in tokens if not t in stopwords.words(\"english\")]\n",
    "    \n",
    "    # Stemming/Lemmatization\n",
    "    if(flag == 'stem'):\n",
    "        clean_tokens = [stemmer.stem(word) for word in clean_tokens]\n",
    "    else:\n",
    "        clean_tokens = [lemmatizer.lemmatize(word) for word in clean_tokens]\n",
    "    \n",
    "    return pd.Series([\" \".join(clean_tokens), len(clean_tokens)])"
   ]
  },
  {
   "cell_type": "code",
   "execution_count": 20,
   "id": "1a1fad31",
   "metadata": {},
   "outputs": [],
   "source": [
    "from tqdm import tqdm, tqdm_notebook\n",
    "\n",
    "tqdm.pandas()"
   ]
  },
  {
   "cell_type": "markdown",
   "id": "9badcb00",
   "metadata": {},
   "source": [
    "temp_df = X_train[\"ReviewText\"].progress_apply(lambda x: preprocess(x, 'stem'))\n",
    "\n",
    "temp_df.head()\n",
    "\n",
    "temp_df.columns = ['clean_text_stem', 'text_length_stem']\n",
    "\n",
    "temp_df.head()\n",
    "\n",
    "X_train = pd.concat([X_train, temp_df], axis=1)\n",
    "\n",
    "X_train.head()\n",
    "\n",
    "\n",
    "X_train.to_csv('X_train_stem.csv')"
   ]
  },
  {
   "cell_type": "code",
   "execution_count": 21,
   "id": "89565d6a",
   "metadata": {},
   "outputs": [
    {
     "data": {
      "text/html": [
       "<div>\n",
       "<style scoped>\n",
       "    .dataframe tbody tr th:only-of-type {\n",
       "        vertical-align: middle;\n",
       "    }\n",
       "\n",
       "    .dataframe tbody tr th {\n",
       "        vertical-align: top;\n",
       "    }\n",
       "\n",
       "    .dataframe thead th {\n",
       "        text-align: right;\n",
       "    }\n",
       "</style>\n",
       "<table border=\"1\" class=\"dataframe\">\n",
       "  <thead>\n",
       "    <tr style=\"text-align: right;\">\n",
       "      <th></th>\n",
       "      <th>Unnamed: 0</th>\n",
       "      <th>ReviewText</th>\n",
       "      <th>clean_text_stem</th>\n",
       "      <th>text_length_stem</th>\n",
       "    </tr>\n",
       "  </thead>\n",
       "  <tbody>\n",
       "    <tr>\n",
       "      <th>0</th>\n",
       "      <td>447215</td>\n",
       "      <td>It is good and soothing to drink I have not t...</td>\n",
       "      <td>good sooth drink tri mani time yet share sister</td>\n",
       "      <td>9</td>\n",
       "    </tr>\n",
       "    <tr>\n",
       "      <th>1</th>\n",
       "      <td>253653</td>\n",
       "      <td>Whenever I need something a little special fo...</td>\n",
       "      <td>whenev need someth littl special dinner mario ...</td>\n",
       "      <td>37</td>\n",
       "    </tr>\n",
       "    <tr>\n",
       "      <th>2</th>\n",
       "      <td>566123</td>\n",
       "      <td>I bought this almost a month ago and my dog a...</td>\n",
       "      <td>bought almost month ago dog small corgi mix st...</td>\n",
       "      <td>27</td>\n",
       "    </tr>\n",
       "    <tr>\n",
       "      <th>3</th>\n",
       "      <td>381706</td>\n",
       "      <td>Extract is listed as an ingredient Sounds har...</td>\n",
       "      <td>extract list ingredi sound harmless right spec...</td>\n",
       "      <td>33</td>\n",
       "    </tr>\n",
       "    <tr>\n",
       "      <th>4</th>\n",
       "      <td>547077</td>\n",
       "      <td>I purchased these nuts as a gift and was disa...</td>\n",
       "      <td>purchas nut gift disappoint arriv small brown ...</td>\n",
       "      <td>15</td>\n",
       "    </tr>\n",
       "    <tr>\n",
       "      <th>...</th>\n",
       "      <td>...</td>\n",
       "      <td>...</td>\n",
       "      <td>...</td>\n",
       "      <td>...</td>\n",
       "    </tr>\n",
       "    <tr>\n",
       "      <th>425573</th>\n",
       "      <td>385156</td>\n",
       "      <td>I had no problem eating these bars they taste...</td>\n",
       "      <td>problem eat bar tast ok thought wow nice addit...</td>\n",
       "      <td>33</td>\n",
       "    </tr>\n",
       "    <tr>\n",
       "      <th>425574</th>\n",
       "      <td>321502</td>\n",
       "      <td>All 3 of my dogs just love them I think they ...</td>\n",
       "      <td>dog love think good cost whole lot less</td>\n",
       "      <td>8</td>\n",
       "    </tr>\n",
       "    <tr>\n",
       "      <th>425575</th>\n",
       "      <td>441633</td>\n",
       "      <td>I love all of the Happy Baby products but thi...</td>\n",
       "      <td>love happi babi product one favorit highlight ...</td>\n",
       "      <td>34</td>\n",
       "    </tr>\n",
       "    <tr>\n",
       "      <th>425576</th>\n",
       "      <td>239499</td>\n",
       "      <td>Great price and a really good hot addition to...</td>\n",
       "      <td>great price realli good hot addit meal like th...</td>\n",
       "      <td>16</td>\n",
       "    </tr>\n",
       "    <tr>\n",
       "      <th>425577</th>\n",
       "      <td>103904</td>\n",
       "      <td>Dear America is amazing stuff You won all lik...</td>\n",
       "      <td>dear america amaz stuff like though either say...</td>\n",
       "      <td>19</td>\n",
       "    </tr>\n",
       "  </tbody>\n",
       "</table>\n",
       "<p>425578 rows × 4 columns</p>\n",
       "</div>"
      ],
      "text/plain": [
       "        Unnamed: 0                                         ReviewText  \\\n",
       "0           447215   It is good and soothing to drink I have not t...   \n",
       "1           253653   Whenever I need something a little special fo...   \n",
       "2           566123   I bought this almost a month ago and my dog a...   \n",
       "3           381706   Extract is listed as an ingredient Sounds har...   \n",
       "4           547077   I purchased these nuts as a gift and was disa...   \n",
       "...            ...                                                ...   \n",
       "425573      385156   I had no problem eating these bars they taste...   \n",
       "425574      321502   All 3 of my dogs just love them I think they ...   \n",
       "425575      441633   I love all of the Happy Baby products but thi...   \n",
       "425576      239499   Great price and a really good hot addition to...   \n",
       "425577      103904   Dear America is amazing stuff You won all lik...   \n",
       "\n",
       "                                          clean_text_stem  text_length_stem  \n",
       "0         good sooth drink tri mani time yet share sister                 9  \n",
       "1       whenev need someth littl special dinner mario ...                37  \n",
       "2       bought almost month ago dog small corgi mix st...                27  \n",
       "3       extract list ingredi sound harmless right spec...                33  \n",
       "4       purchas nut gift disappoint arriv small brown ...                15  \n",
       "...                                                   ...               ...  \n",
       "425573  problem eat bar tast ok thought wow nice addit...                33  \n",
       "425574            dog love think good cost whole lot less                 8  \n",
       "425575  love happi babi product one favorit highlight ...                34  \n",
       "425576  great price realli good hot addit meal like th...                16  \n",
       "425577  dear america amaz stuff like though either say...                19  \n",
       "\n",
       "[425578 rows x 4 columns]"
      ]
     },
     "execution_count": 21,
     "metadata": {},
     "output_type": "execute_result"
    }
   ],
   "source": [
    "X_train_stem=pd.read_csv(\"X_train_stem.csv\")\n",
    "X_train_stem"
   ]
  },
  {
   "cell_type": "markdown",
   "id": "ed9260c7",
   "metadata": {},
   "source": [
    "## X_train_lemma"
   ]
  },
  {
   "cell_type": "markdown",
   "id": "7de47ad8",
   "metadata": {},
   "source": [
    " temp_df = X_train['ReviewText'].progress_apply(lambda x: preprocess(x, 'lemma'))\n",
    "\n",
    "temp_df.head()\n",
    "\n",
    "temp_df.columns = ['clean_text_lemma', 'text_length_lemma']\n",
    "\n",
    "temp_df.head()\n",
    "\n",
    "X_train = pd.concat([X_train, temp_df], axis=1)\n",
    "\n",
    "X_train.head()\n",
    "\n",
    "X_train.to_csv(\"X_train_lemma.csv\")"
   ]
  },
  {
   "cell_type": "code",
   "execution_count": 22,
   "id": "1f3b3bbb",
   "metadata": {},
   "outputs": [
    {
     "data": {
      "text/html": [
       "<div>\n",
       "<style scoped>\n",
       "    .dataframe tbody tr th:only-of-type {\n",
       "        vertical-align: middle;\n",
       "    }\n",
       "\n",
       "    .dataframe tbody tr th {\n",
       "        vertical-align: top;\n",
       "    }\n",
       "\n",
       "    .dataframe thead th {\n",
       "        text-align: right;\n",
       "    }\n",
       "</style>\n",
       "<table border=\"1\" class=\"dataframe\">\n",
       "  <thead>\n",
       "    <tr style=\"text-align: right;\">\n",
       "      <th></th>\n",
       "      <th>Unnamed: 0</th>\n",
       "      <th>ReviewText</th>\n",
       "      <th>clean_text_lemma</th>\n",
       "      <th>text_length_lemma</th>\n",
       "    </tr>\n",
       "  </thead>\n",
       "  <tbody>\n",
       "    <tr>\n",
       "      <th>0</th>\n",
       "      <td>447215</td>\n",
       "      <td>It is good and soothing to drink I have not t...</td>\n",
       "      <td>good soothing drink tried many time yet sharin...</td>\n",
       "      <td>9</td>\n",
       "    </tr>\n",
       "    <tr>\n",
       "      <th>1</th>\n",
       "      <td>253653</td>\n",
       "      <td>Whenever I need something a little special fo...</td>\n",
       "      <td>whenever need something little special dinner ...</td>\n",
       "      <td>37</td>\n",
       "    </tr>\n",
       "    <tr>\n",
       "      <th>2</th>\n",
       "      <td>566123</td>\n",
       "      <td>I bought this almost a month ago and my dog a...</td>\n",
       "      <td>bought almost month ago dog small corgi mix st...</td>\n",
       "      <td>27</td>\n",
       "    </tr>\n",
       "    <tr>\n",
       "      <th>3</th>\n",
       "      <td>381706</td>\n",
       "      <td>Extract is listed as an ingredient Sounds har...</td>\n",
       "      <td>extract listed ingredient sound harmless right...</td>\n",
       "      <td>33</td>\n",
       "    </tr>\n",
       "    <tr>\n",
       "      <th>4</th>\n",
       "      <td>547077</td>\n",
       "      <td>I purchased these nuts as a gift and was disa...</td>\n",
       "      <td>purchased nut gift disappointed arrived small ...</td>\n",
       "      <td>15</td>\n",
       "    </tr>\n",
       "    <tr>\n",
       "      <th>...</th>\n",
       "      <td>...</td>\n",
       "      <td>...</td>\n",
       "      <td>...</td>\n",
       "      <td>...</td>\n",
       "    </tr>\n",
       "    <tr>\n",
       "      <th>425573</th>\n",
       "      <td>385156</td>\n",
       "      <td>I had no problem eating these bars they taste...</td>\n",
       "      <td>problem eating bar tasted ok thought wow nice ...</td>\n",
       "      <td>33</td>\n",
       "    </tr>\n",
       "    <tr>\n",
       "      <th>425574</th>\n",
       "      <td>321502</td>\n",
       "      <td>All 3 of my dogs just love them I think they ...</td>\n",
       "      <td>dog love think good cost whole lot le</td>\n",
       "      <td>8</td>\n",
       "    </tr>\n",
       "    <tr>\n",
       "      <th>425575</th>\n",
       "      <td>441633</td>\n",
       "      <td>I love all of the Happy Baby products but thi...</td>\n",
       "      <td>love happy baby product one favorite highlight...</td>\n",
       "      <td>34</td>\n",
       "    </tr>\n",
       "    <tr>\n",
       "      <th>425576</th>\n",
       "      <td>239499</td>\n",
       "      <td>Great price and a really good hot addition to...</td>\n",
       "      <td>great price really good hot addition meal like...</td>\n",
       "      <td>16</td>\n",
       "    </tr>\n",
       "    <tr>\n",
       "      <th>425577</th>\n",
       "      <td>103904</td>\n",
       "      <td>Dear America is amazing stuff You won all lik...</td>\n",
       "      <td>dear america amazing stuff like though either ...</td>\n",
       "      <td>19</td>\n",
       "    </tr>\n",
       "  </tbody>\n",
       "</table>\n",
       "<p>425578 rows × 4 columns</p>\n",
       "</div>"
      ],
      "text/plain": [
       "        Unnamed: 0                                         ReviewText  \\\n",
       "0           447215   It is good and soothing to drink I have not t...   \n",
       "1           253653   Whenever I need something a little special fo...   \n",
       "2           566123   I bought this almost a month ago and my dog a...   \n",
       "3           381706   Extract is listed as an ingredient Sounds har...   \n",
       "4           547077   I purchased these nuts as a gift and was disa...   \n",
       "...            ...                                                ...   \n",
       "425573      385156   I had no problem eating these bars they taste...   \n",
       "425574      321502   All 3 of my dogs just love them I think they ...   \n",
       "425575      441633   I love all of the Happy Baby products but thi...   \n",
       "425576      239499   Great price and a really good hot addition to...   \n",
       "425577      103904   Dear America is amazing stuff You won all lik...   \n",
       "\n",
       "                                         clean_text_lemma  text_length_lemma  \n",
       "0       good soothing drink tried many time yet sharin...                  9  \n",
       "1       whenever need something little special dinner ...                 37  \n",
       "2       bought almost month ago dog small corgi mix st...                 27  \n",
       "3       extract listed ingredient sound harmless right...                 33  \n",
       "4       purchased nut gift disappointed arrived small ...                 15  \n",
       "...                                                   ...                ...  \n",
       "425573  problem eating bar tasted ok thought wow nice ...                 33  \n",
       "425574              dog love think good cost whole lot le                  8  \n",
       "425575  love happy baby product one favorite highlight...                 34  \n",
       "425576  great price really good hot addition meal like...                 16  \n",
       "425577  dear america amazing stuff like though either ...                 19  \n",
       "\n",
       "[425578 rows x 4 columns]"
      ]
     },
     "execution_count": 22,
     "metadata": {},
     "output_type": "execute_result"
    }
   ],
   "source": [
    "X_train=pd.read_csv(\"X_train_lemma.csv\")\n",
    "\n",
    "X_train"
   ]
  },
  {
   "cell_type": "code",
   "execution_count": 23,
   "id": "19d30ed8",
   "metadata": {},
   "outputs": [],
   "source": [
    "del X_train['Unnamed: 0']"
   ]
  },
  {
   "cell_type": "code",
   "execution_count": 24,
   "id": "1d77b704",
   "metadata": {},
   "outputs": [
    {
     "data": {
      "text/html": [
       "<div>\n",
       "<style scoped>\n",
       "    .dataframe tbody tr th:only-of-type {\n",
       "        vertical-align: middle;\n",
       "    }\n",
       "\n",
       "    .dataframe tbody tr th {\n",
       "        vertical-align: top;\n",
       "    }\n",
       "\n",
       "    .dataframe thead th {\n",
       "        text-align: right;\n",
       "    }\n",
       "</style>\n",
       "<table border=\"1\" class=\"dataframe\">\n",
       "  <thead>\n",
       "    <tr style=\"text-align: right;\">\n",
       "      <th></th>\n",
       "      <th>ReviewText</th>\n",
       "      <th>clean_text_lemma</th>\n",
       "      <th>text_length_lemma</th>\n",
       "    </tr>\n",
       "  </thead>\n",
       "  <tbody>\n",
       "    <tr>\n",
       "      <th>0</th>\n",
       "      <td>It is good and soothing to drink I have not t...</td>\n",
       "      <td>good soothing drink tried many time yet sharin...</td>\n",
       "      <td>9</td>\n",
       "    </tr>\n",
       "    <tr>\n",
       "      <th>1</th>\n",
       "      <td>Whenever I need something a little special fo...</td>\n",
       "      <td>whenever need something little special dinner ...</td>\n",
       "      <td>37</td>\n",
       "    </tr>\n",
       "    <tr>\n",
       "      <th>2</th>\n",
       "      <td>I bought this almost a month ago and my dog a...</td>\n",
       "      <td>bought almost month ago dog small corgi mix st...</td>\n",
       "      <td>27</td>\n",
       "    </tr>\n",
       "    <tr>\n",
       "      <th>3</th>\n",
       "      <td>Extract is listed as an ingredient Sounds har...</td>\n",
       "      <td>extract listed ingredient sound harmless right...</td>\n",
       "      <td>33</td>\n",
       "    </tr>\n",
       "    <tr>\n",
       "      <th>4</th>\n",
       "      <td>I purchased these nuts as a gift and was disa...</td>\n",
       "      <td>purchased nut gift disappointed arrived small ...</td>\n",
       "      <td>15</td>\n",
       "    </tr>\n",
       "    <tr>\n",
       "      <th>...</th>\n",
       "      <td>...</td>\n",
       "      <td>...</td>\n",
       "      <td>...</td>\n",
       "    </tr>\n",
       "    <tr>\n",
       "      <th>425573</th>\n",
       "      <td>I had no problem eating these bars they taste...</td>\n",
       "      <td>problem eating bar tasted ok thought wow nice ...</td>\n",
       "      <td>33</td>\n",
       "    </tr>\n",
       "    <tr>\n",
       "      <th>425574</th>\n",
       "      <td>All 3 of my dogs just love them I think they ...</td>\n",
       "      <td>dog love think good cost whole lot le</td>\n",
       "      <td>8</td>\n",
       "    </tr>\n",
       "    <tr>\n",
       "      <th>425575</th>\n",
       "      <td>I love all of the Happy Baby products but thi...</td>\n",
       "      <td>love happy baby product one favorite highlight...</td>\n",
       "      <td>34</td>\n",
       "    </tr>\n",
       "    <tr>\n",
       "      <th>425576</th>\n",
       "      <td>Great price and a really good hot addition to...</td>\n",
       "      <td>great price really good hot addition meal like...</td>\n",
       "      <td>16</td>\n",
       "    </tr>\n",
       "    <tr>\n",
       "      <th>425577</th>\n",
       "      <td>Dear America is amazing stuff You won all lik...</td>\n",
       "      <td>dear america amazing stuff like though either ...</td>\n",
       "      <td>19</td>\n",
       "    </tr>\n",
       "  </tbody>\n",
       "</table>\n",
       "<p>425578 rows × 3 columns</p>\n",
       "</div>"
      ],
      "text/plain": [
       "                                               ReviewText  \\\n",
       "0        It is good and soothing to drink I have not t...   \n",
       "1        Whenever I need something a little special fo...   \n",
       "2        I bought this almost a month ago and my dog a...   \n",
       "3        Extract is listed as an ingredient Sounds har...   \n",
       "4        I purchased these nuts as a gift and was disa...   \n",
       "...                                                   ...   \n",
       "425573   I had no problem eating these bars they taste...   \n",
       "425574   All 3 of my dogs just love them I think they ...   \n",
       "425575   I love all of the Happy Baby products but thi...   \n",
       "425576   Great price and a really good hot addition to...   \n",
       "425577   Dear America is amazing stuff You won all lik...   \n",
       "\n",
       "                                         clean_text_lemma  text_length_lemma  \n",
       "0       good soothing drink tried many time yet sharin...                  9  \n",
       "1       whenever need something little special dinner ...                 37  \n",
       "2       bought almost month ago dog small corgi mix st...                 27  \n",
       "3       extract listed ingredient sound harmless right...                 33  \n",
       "4       purchased nut gift disappointed arrived small ...                 15  \n",
       "...                                                   ...                ...  \n",
       "425573  problem eating bar tasted ok thought wow nice ...                 33  \n",
       "425574              dog love think good cost whole lot le                  8  \n",
       "425575  love happy baby product one favorite highlight...                 34  \n",
       "425576  great price really good hot addition meal like...                 16  \n",
       "425577  dear america amazing stuff like though either ...                 19  \n",
       "\n",
       "[425578 rows x 3 columns]"
      ]
     },
     "execution_count": 24,
     "metadata": {},
     "output_type": "execute_result"
    }
   ],
   "source": [
    "X_train"
   ]
  },
  {
   "cell_type": "markdown",
   "id": "a4765c81",
   "metadata": {},
   "source": [
    "# Using Bag Of Words(BOW)"
   ]
  },
  {
   "cell_type": "code",
   "execution_count": 25,
   "id": "ee16f52d",
   "metadata": {},
   "outputs": [],
   "source": [
    "from sklearn.feature_extraction.text import CountVectorizer\n",
    "\n",
    "vocab = CountVectorizer()\n",
    "\n",
    "X_train_bow= vocab.fit_transform(X_train['clean_text_lemma'])"
   ]
  },
  {
   "cell_type": "code",
   "execution_count": 26,
   "id": "4d5e0389",
   "metadata": {},
   "outputs": [
    {
     "data": {
      "text/plain": [
       "<425578x83171 sparse matrix of type '<class 'numpy.int64'>'\n",
       "\twith 13510900 stored elements in Compressed Sparse Row format>"
      ]
     },
     "execution_count": 26,
     "metadata": {},
     "output_type": "execute_result"
    }
   ],
   "source": [
    "X_train_bow"
   ]
  },
  {
   "cell_type": "code",
   "execution_count": 27,
   "id": "85e26190",
   "metadata": {},
   "outputs": [
    {
     "data": {
      "text/plain": [
       "<1x83171 sparse matrix of type '<class 'numpy.int64'>'\n",
       "\twith 9 stored elements in Compressed Sparse Row format>"
      ]
     },
     "execution_count": 27,
     "metadata": {},
     "output_type": "execute_result"
    }
   ],
   "source": [
    "X_train_bow[0]"
   ]
  },
  {
   "cell_type": "markdown",
   "id": "ccf59664",
   "metadata": {},
   "source": [
    "## Preprocessing the test data"
   ]
  },
  {
   "cell_type": "code",
   "execution_count": 28,
   "id": "53e240e3",
   "metadata": {},
   "outputs": [
    {
     "data": {
      "text/html": [
       "<div>\n",
       "<style scoped>\n",
       "    .dataframe tbody tr th:only-of-type {\n",
       "        vertical-align: middle;\n",
       "    }\n",
       "\n",
       "    .dataframe tbody tr th {\n",
       "        vertical-align: top;\n",
       "    }\n",
       "\n",
       "    .dataframe thead th {\n",
       "        text-align: right;\n",
       "    }\n",
       "</style>\n",
       "<table border=\"1\" class=\"dataframe\">\n",
       "  <thead>\n",
       "    <tr style=\"text-align: right;\">\n",
       "      <th></th>\n",
       "      <th>ReviewText</th>\n",
       "    </tr>\n",
       "  </thead>\n",
       "  <tbody>\n",
       "    <tr>\n",
       "      <th>346436</th>\n",
       "      <td>Ive tried tons of cheap cat litter brands and...</td>\n",
       "    </tr>\n",
       "    <tr>\n",
       "      <th>132237</th>\n",
       "      <td>My 35 pound pit bull mix chewed the rope in h...</td>\n",
       "    </tr>\n",
       "    <tr>\n",
       "      <th>261415</th>\n",
       "      <td>This product I love However the product pictu...</td>\n",
       "    </tr>\n",
       "    <tr>\n",
       "      <th>76796</th>\n",
       "      <td>The Switch Kiwi Berry tastes metallic and fak...</td>\n",
       "    </tr>\n",
       "    <tr>\n",
       "      <th>498830</th>\n",
       "      <td>i love ordering on line esp from amazon just ...</td>\n",
       "    </tr>\n",
       "  </tbody>\n",
       "</table>\n",
       "</div>"
      ],
      "text/plain": [
       "                                               ReviewText\n",
       "346436   Ive tried tons of cheap cat litter brands and...\n",
       "132237   My 35 pound pit bull mix chewed the rope in h...\n",
       "261415   This product I love However the product pictu...\n",
       "76796    The Switch Kiwi Berry tastes metallic and fak...\n",
       "498830   i love ordering on line esp from amazon just ..."
      ]
     },
     "execution_count": 28,
     "metadata": {},
     "output_type": "execute_result"
    }
   ],
   "source": [
    "X_test.head()"
   ]
  },
  {
   "cell_type": "markdown",
   "id": "5dfc130c",
   "metadata": {},
   "source": [
    "temp_df = X_test['ReviewText'].progress_apply(lambda x: preprocess(x, 'lemma'))\n",
    "\n",
    "temp_df.head()\n",
    "\n",
    "temp_df.columns = ['clean_text_lemma', 'text_length_lemma']\n",
    "\n",
    "temp_df.head()\n",
    "\n",
    "X_test = pd.concat([X_test, temp_df], axis=1)\n",
    "\n",
    "X_test.head()\n",
    "\n",
    "X_test.to_csv(\"X_test.csv\")"
   ]
  },
  {
   "cell_type": "code",
   "execution_count": 29,
   "id": "b4232151",
   "metadata": {},
   "outputs": [],
   "source": [
    "X_test=pd.read_csv(\"X_test.csv\")"
   ]
  },
  {
   "cell_type": "code",
   "execution_count": 30,
   "id": "91aa91e0",
   "metadata": {},
   "outputs": [],
   "source": [
    "del X_test['Unnamed: 0']"
   ]
  },
  {
   "cell_type": "code",
   "execution_count": 31,
   "id": "2ad47693",
   "metadata": {},
   "outputs": [
    {
     "data": {
      "text/html": [
       "<div>\n",
       "<style scoped>\n",
       "    .dataframe tbody tr th:only-of-type {\n",
       "        vertical-align: middle;\n",
       "    }\n",
       "\n",
       "    .dataframe tbody tr th {\n",
       "        vertical-align: top;\n",
       "    }\n",
       "\n",
       "    .dataframe thead th {\n",
       "        text-align: right;\n",
       "    }\n",
       "</style>\n",
       "<table border=\"1\" class=\"dataframe\">\n",
       "  <thead>\n",
       "    <tr style=\"text-align: right;\">\n",
       "      <th></th>\n",
       "      <th>ReviewText</th>\n",
       "      <th>clean_text_lemma</th>\n",
       "      <th>text_length_lemma</th>\n",
       "    </tr>\n",
       "  </thead>\n",
       "  <tbody>\n",
       "    <tr>\n",
       "      <th>0</th>\n",
       "      <td>Ive tried tons of cheap cat litter brands and...</td>\n",
       "      <td>ive tried ton cheap cat litter brand cheap yea...</td>\n",
       "      <td>25</td>\n",
       "    </tr>\n",
       "    <tr>\n",
       "      <th>1</th>\n",
       "      <td>My 35 pound pit bull mix chewed the rope in h...</td>\n",
       "      <td>pound pit bull mix chewed rope half le minute ...</td>\n",
       "      <td>54</td>\n",
       "    </tr>\n",
       "    <tr>\n",
       "      <th>2</th>\n",
       "      <td>This product I love However the product pictu...</td>\n",
       "      <td>product love however product pictured amazon s...</td>\n",
       "      <td>25</td>\n",
       "    </tr>\n",
       "    <tr>\n",
       "      <th>3</th>\n",
       "      <td>The Switch Kiwi Berry tastes metallic and fak...</td>\n",
       "      <td>switch kiwi berry taste metallic fake neither ...</td>\n",
       "      <td>67</td>\n",
       "    </tr>\n",
       "    <tr>\n",
       "      <th>4</th>\n",
       "      <td>i love ordering on line esp from amazon just ...</td>\n",
       "      <td>love ordering line esp amazon run coffee get e...</td>\n",
       "      <td>21</td>\n",
       "    </tr>\n",
       "    <tr>\n",
       "      <th>...</th>\n",
       "      <td>...</td>\n",
       "      <td>...</td>\n",
       "      <td>...</td>\n",
       "    </tr>\n",
       "    <tr>\n",
       "      <th>141855</th>\n",
       "      <td>These are the best of the mauna loa collectio...</td>\n",
       "      <td>best mauna loa collection u like coffee one so...</td>\n",
       "      <td>30</td>\n",
       "    </tr>\n",
       "    <tr>\n",
       "      <th>141856</th>\n",
       "      <td>I really like this cookie A bit dry but good ...</td>\n",
       "      <td>really like cookie bit dry good granddaughter ...</td>\n",
       "      <td>9</td>\n",
       "    </tr>\n",
       "    <tr>\n",
       "      <th>141857</th>\n",
       "      <td>These bones are awesome My dogs love them it ...</td>\n",
       "      <td>bone awesome dog love great purchased went bac...</td>\n",
       "      <td>19</td>\n",
       "    </tr>\n",
       "    <tr>\n",
       "      <th>141858</th>\n",
       "      <td>Very tasty No sugar or junk that I don want J...</td>\n",
       "      <td>tasty sugar junk want real food make great sna...</td>\n",
       "      <td>10</td>\n",
       "    </tr>\n",
       "    <tr>\n",
       "      <th>141859</th>\n",
       "      <td>This must be a typeo or this is the most expe...</td>\n",
       "      <td>must typeo expensive pod coffee ever</td>\n",
       "      <td>6</td>\n",
       "    </tr>\n",
       "  </tbody>\n",
       "</table>\n",
       "<p>141860 rows × 3 columns</p>\n",
       "</div>"
      ],
      "text/plain": [
       "                                               ReviewText  \\\n",
       "0        Ive tried tons of cheap cat litter brands and...   \n",
       "1        My 35 pound pit bull mix chewed the rope in h...   \n",
       "2        This product I love However the product pictu...   \n",
       "3        The Switch Kiwi Berry tastes metallic and fak...   \n",
       "4        i love ordering on line esp from amazon just ...   \n",
       "...                                                   ...   \n",
       "141855   These are the best of the mauna loa collectio...   \n",
       "141856   I really like this cookie A bit dry but good ...   \n",
       "141857   These bones are awesome My dogs love them it ...   \n",
       "141858   Very tasty No sugar or junk that I don want J...   \n",
       "141859   This must be a typeo or this is the most expe...   \n",
       "\n",
       "                                         clean_text_lemma  text_length_lemma  \n",
       "0       ive tried ton cheap cat litter brand cheap yea...                 25  \n",
       "1       pound pit bull mix chewed rope half le minute ...                 54  \n",
       "2       product love however product pictured amazon s...                 25  \n",
       "3       switch kiwi berry taste metallic fake neither ...                 67  \n",
       "4       love ordering line esp amazon run coffee get e...                 21  \n",
       "...                                                   ...                ...  \n",
       "141855  best mauna loa collection u like coffee one so...                 30  \n",
       "141856  really like cookie bit dry good granddaughter ...                  9  \n",
       "141857  bone awesome dog love great purchased went bac...                 19  \n",
       "141858  tasty sugar junk want real food make great sna...                 10  \n",
       "141859               must typeo expensive pod coffee ever                  6  \n",
       "\n",
       "[141860 rows x 3 columns]"
      ]
     },
     "execution_count": 31,
     "metadata": {},
     "output_type": "execute_result"
    }
   ],
   "source": [
    "X_test"
   ]
  },
  {
   "cell_type": "code",
   "execution_count": 32,
   "id": "b63c23d9",
   "metadata": {},
   "outputs": [],
   "source": [
    "X_test_bow = vocab.transform(X_test['clean_text_lemma'])\n"
   ]
  },
  {
   "cell_type": "code",
   "execution_count": null,
   "id": "b3c085b6",
   "metadata": {},
   "outputs": [],
   "source": []
  },
  {
   "cell_type": "code",
   "execution_count": 33,
   "id": "2c39af45",
   "metadata": {},
   "outputs": [
    {
     "data": {
      "text/plain": [
       "<141860x83171 sparse matrix of type '<class 'numpy.int64'>'\n",
       "\twith 4486102 stored elements in Compressed Sparse Row format>"
      ]
     },
     "execution_count": 33,
     "metadata": {},
     "output_type": "execute_result"
    }
   ],
   "source": [
    "X_test_bow"
   ]
  },
  {
   "cell_type": "code",
   "execution_count": 137,
   "id": "6db94196",
   "metadata": {},
   "outputs": [],
   "source": [
    "# TF-IDF\n",
    "\n",
    "from sklearn.feature_extraction.text import TfidfVectorizer\n",
    "\n",
    "vectorizer = TfidfVectorizer()\n",
    "\n",
    "X_train_vector = vectorizer.fit_transform(X_train['clean_text_lemma'])"
   ]
  },
  {
   "cell_type": "code",
   "execution_count": 35,
   "id": "96992b93",
   "metadata": {},
   "outputs": [],
   "source": [
    "X_test_vector = vectorizer.transform(X_test['clean_text_lemma'])"
   ]
  },
  {
   "cell_type": "code",
   "execution_count": 36,
   "id": "f597a7c6",
   "metadata": {},
   "outputs": [
    {
     "data": {
      "text/plain": [
       "<141860x83171 sparse matrix of type '<class 'numpy.float64'>'\n",
       "\twith 4486102 stored elements in Compressed Sparse Row format>"
      ]
     },
     "execution_count": 36,
     "metadata": {},
     "output_type": "execute_result"
    }
   ],
   "source": [
    "X_test_vector"
   ]
  },
  {
   "cell_type": "code",
   "execution_count": null,
   "id": "c196ceed",
   "metadata": {},
   "outputs": [],
   "source": []
  },
  {
   "cell_type": "code",
   "execution_count": null,
   "id": "eaa06493",
   "metadata": {},
   "outputs": [],
   "source": []
  },
  {
   "cell_type": "markdown",
   "id": "eb2fd92a",
   "metadata": {},
   "source": [
    "# Using Models"
   ]
  },
  {
   "cell_type": "markdown",
   "id": "af8d8a78",
   "metadata": {},
   "source": [
    "## Logistic Regression Using TF-IDF"
   ]
  },
  {
   "cell_type": "code",
   "execution_count": 138,
   "id": "dff9186b",
   "metadata": {},
   "outputs": [
    {
     "name": "stderr",
     "output_type": "stream",
     "text": [
      "C:\\Users\\pc\\anaconda3\\lib\\site-packages\\sklearn\\linear_model\\_logistic.py:444: ConvergenceWarning: lbfgs failed to converge (status=1):\n",
      "STOP: TOTAL NO. of ITERATIONS REACHED LIMIT.\n",
      "\n",
      "Increase the number of iterations (max_iter) or scale the data as shown in:\n",
      "    https://scikit-learn.org/stable/modules/preprocessing.html\n",
      "Please also refer to the documentation for alternative solver options:\n",
      "    https://scikit-learn.org/stable/modules/linear_model.html#logistic-regression\n",
      "  n_iter_i = _check_optimize_result(\n"
     ]
    },
    {
     "data": {
      "text/html": [
       "<style>#sk-container-id-5 {color: black;background-color: white;}#sk-container-id-5 pre{padding: 0;}#sk-container-id-5 div.sk-toggleable {background-color: white;}#sk-container-id-5 label.sk-toggleable__label {cursor: pointer;display: block;width: 100%;margin-bottom: 0;padding: 0.3em;box-sizing: border-box;text-align: center;}#sk-container-id-5 label.sk-toggleable__label-arrow:before {content: \"▸\";float: left;margin-right: 0.25em;color: #696969;}#sk-container-id-5 label.sk-toggleable__label-arrow:hover:before {color: black;}#sk-container-id-5 div.sk-estimator:hover label.sk-toggleable__label-arrow:before {color: black;}#sk-container-id-5 div.sk-toggleable__content {max-height: 0;max-width: 0;overflow: hidden;text-align: left;background-color: #f0f8ff;}#sk-container-id-5 div.sk-toggleable__content pre {margin: 0.2em;color: black;border-radius: 0.25em;background-color: #f0f8ff;}#sk-container-id-5 input.sk-toggleable__control:checked~div.sk-toggleable__content {max-height: 200px;max-width: 100%;overflow: auto;}#sk-container-id-5 input.sk-toggleable__control:checked~label.sk-toggleable__label-arrow:before {content: \"▾\";}#sk-container-id-5 div.sk-estimator input.sk-toggleable__control:checked~label.sk-toggleable__label {background-color: #d4ebff;}#sk-container-id-5 div.sk-label input.sk-toggleable__control:checked~label.sk-toggleable__label {background-color: #d4ebff;}#sk-container-id-5 input.sk-hidden--visually {border: 0;clip: rect(1px 1px 1px 1px);clip: rect(1px, 1px, 1px, 1px);height: 1px;margin: -1px;overflow: hidden;padding: 0;position: absolute;width: 1px;}#sk-container-id-5 div.sk-estimator {font-family: monospace;background-color: #f0f8ff;border: 1px dotted black;border-radius: 0.25em;box-sizing: border-box;margin-bottom: 0.5em;}#sk-container-id-5 div.sk-estimator:hover {background-color: #d4ebff;}#sk-container-id-5 div.sk-parallel-item::after {content: \"\";width: 100%;border-bottom: 1px solid gray;flex-grow: 1;}#sk-container-id-5 div.sk-label:hover label.sk-toggleable__label {background-color: #d4ebff;}#sk-container-id-5 div.sk-serial::before {content: \"\";position: absolute;border-left: 1px solid gray;box-sizing: border-box;top: 0;bottom: 0;left: 50%;z-index: 0;}#sk-container-id-5 div.sk-serial {display: flex;flex-direction: column;align-items: center;background-color: white;padding-right: 0.2em;padding-left: 0.2em;position: relative;}#sk-container-id-5 div.sk-item {position: relative;z-index: 1;}#sk-container-id-5 div.sk-parallel {display: flex;align-items: stretch;justify-content: center;background-color: white;position: relative;}#sk-container-id-5 div.sk-item::before, #sk-container-id-5 div.sk-parallel-item::before {content: \"\";position: absolute;border-left: 1px solid gray;box-sizing: border-box;top: 0;bottom: 0;left: 50%;z-index: -1;}#sk-container-id-5 div.sk-parallel-item {display: flex;flex-direction: column;z-index: 1;position: relative;background-color: white;}#sk-container-id-5 div.sk-parallel-item:first-child::after {align-self: flex-end;width: 50%;}#sk-container-id-5 div.sk-parallel-item:last-child::after {align-self: flex-start;width: 50%;}#sk-container-id-5 div.sk-parallel-item:only-child::after {width: 0;}#sk-container-id-5 div.sk-dashed-wrapped {border: 1px dashed gray;margin: 0 0.4em 0.5em 0.4em;box-sizing: border-box;padding-bottom: 0.4em;background-color: white;}#sk-container-id-5 div.sk-label label {font-family: monospace;font-weight: bold;display: inline-block;line-height: 1.2em;}#sk-container-id-5 div.sk-label-container {text-align: center;}#sk-container-id-5 div.sk-container {/* jupyter's `normalize.less` sets `[hidden] { display: none; }` but bootstrap.min.css set `[hidden] { display: none !important; }` so we also need the `!important` here to be able to override the default hidden behavior on the sphinx rendered scikit-learn.org. See: https://github.com/scikit-learn/scikit-learn/issues/21755 */display: inline-block !important;position: relative;}#sk-container-id-5 div.sk-text-repr-fallback {display: none;}</style><div id=\"sk-container-id-5\" class=\"sk-top-container\"><div class=\"sk-text-repr-fallback\"><pre>LogisticRegression()</pre><b>In a Jupyter environment, please rerun this cell to show the HTML representation or trust the notebook. <br />On GitHub, the HTML representation is unable to render, please try loading this page with nbviewer.org.</b></div><div class=\"sk-container\" hidden><div class=\"sk-item\"><div class=\"sk-estimator sk-toggleable\"><input class=\"sk-toggleable__control sk-hidden--visually\" id=\"sk-estimator-id-5\" type=\"checkbox\" checked><label for=\"sk-estimator-id-5\" class=\"sk-toggleable__label sk-toggleable__label-arrow\">LogisticRegression</label><div class=\"sk-toggleable__content\"><pre>LogisticRegression()</pre></div></div></div></div></div>"
      ],
      "text/plain": [
       "LogisticRegression()"
      ]
     },
     "execution_count": 138,
     "metadata": {},
     "output_type": "execute_result"
    }
   ],
   "source": [
    "from sklearn.linear_model import LogisticRegression\n",
    "classifier= LogisticRegression()\n",
    "classifier.fit(X_train_vector,y_train)"
   ]
  },
  {
   "cell_type": "code",
   "execution_count": 139,
   "id": "e3a01bc9",
   "metadata": {},
   "outputs": [],
   "source": [
    "y_test_pred = classifier.predict(X_test_vector)"
   ]
  },
  {
   "cell_type": "code",
   "execution_count": 140,
   "id": "f243298f",
   "metadata": {},
   "outputs": [
    {
     "name": "stdout",
     "output_type": "stream",
     "text": [
      "0.7351191315381362\n",
      "              precision    recall  f1-score   support\n",
      "\n",
      "           1       0.65      0.67      0.66     13085\n",
      "           2       0.45      0.20      0.28      7401\n",
      "           3       0.45      0.28      0.35     10672\n",
      "           4       0.51      0.26      0.34     20264\n",
      "           5       0.79      0.95      0.86     90438\n",
      "\n",
      "    accuracy                           0.74    141860\n",
      "   macro avg       0.57      0.47      0.50    141860\n",
      "weighted avg       0.70      0.74      0.70    141860\n",
      "\n"
     ]
    }
   ],
   "source": [
    "from sklearn.metrics import accuracy_score, classification_report\n",
    "\n",
    "print(accuracy_score(y_test, y_test_pred))\n",
    "\n",
    "print(classification_report(y_test, y_test_pred))"
   ]
  },
  {
   "cell_type": "code",
   "execution_count": 141,
   "id": "cd23cd3f",
   "metadata": {},
   "outputs": [],
   "source": [
    "import joblib\n",
    "from joblib import dump, load"
   ]
  },
  {
   "cell_type": "code",
   "execution_count": 142,
   "id": "9b42147f",
   "metadata": {},
   "outputs": [
    {
     "data": {
      "text/plain": [
       "['logistic_Regression_TFIDF']"
      ]
     },
     "execution_count": 142,
     "metadata": {},
     "output_type": "execute_result"
    }
   ],
   "source": [
    "joblib.dump(classifier,'logistic_Regression_TFIDF')"
   ]
  },
  {
   "cell_type": "markdown",
   "id": "bdef8333",
   "metadata": {},
   "source": [
    "## Logistic Regression using BOW"
   ]
  },
  {
   "cell_type": "code",
   "execution_count": 40,
   "id": "75f9c579",
   "metadata": {},
   "outputs": [
    {
     "name": "stderr",
     "output_type": "stream",
     "text": [
      "C:\\Users\\pc\\anaconda3\\lib\\site-packages\\sklearn\\linear_model\\_logistic.py:444: ConvergenceWarning: lbfgs failed to converge (status=1):\n",
      "STOP: TOTAL NO. of ITERATIONS REACHED LIMIT.\n",
      "\n",
      "Increase the number of iterations (max_iter) or scale the data as shown in:\n",
      "    https://scikit-learn.org/stable/modules/preprocessing.html\n",
      "Please also refer to the documentation for alternative solver options:\n",
      "    https://scikit-learn.org/stable/modules/linear_model.html#logistic-regression\n",
      "  n_iter_i = _check_optimize_result(\n"
     ]
    },
    {
     "data": {
      "text/html": [
       "<style>#sk-container-id-2 {color: black;background-color: white;}#sk-container-id-2 pre{padding: 0;}#sk-container-id-2 div.sk-toggleable {background-color: white;}#sk-container-id-2 label.sk-toggleable__label {cursor: pointer;display: block;width: 100%;margin-bottom: 0;padding: 0.3em;box-sizing: border-box;text-align: center;}#sk-container-id-2 label.sk-toggleable__label-arrow:before {content: \"▸\";float: left;margin-right: 0.25em;color: #696969;}#sk-container-id-2 label.sk-toggleable__label-arrow:hover:before {color: black;}#sk-container-id-2 div.sk-estimator:hover label.sk-toggleable__label-arrow:before {color: black;}#sk-container-id-2 div.sk-toggleable__content {max-height: 0;max-width: 0;overflow: hidden;text-align: left;background-color: #f0f8ff;}#sk-container-id-2 div.sk-toggleable__content pre {margin: 0.2em;color: black;border-radius: 0.25em;background-color: #f0f8ff;}#sk-container-id-2 input.sk-toggleable__control:checked~div.sk-toggleable__content {max-height: 200px;max-width: 100%;overflow: auto;}#sk-container-id-2 input.sk-toggleable__control:checked~label.sk-toggleable__label-arrow:before {content: \"▾\";}#sk-container-id-2 div.sk-estimator input.sk-toggleable__control:checked~label.sk-toggleable__label {background-color: #d4ebff;}#sk-container-id-2 div.sk-label input.sk-toggleable__control:checked~label.sk-toggleable__label {background-color: #d4ebff;}#sk-container-id-2 input.sk-hidden--visually {border: 0;clip: rect(1px 1px 1px 1px);clip: rect(1px, 1px, 1px, 1px);height: 1px;margin: -1px;overflow: hidden;padding: 0;position: absolute;width: 1px;}#sk-container-id-2 div.sk-estimator {font-family: monospace;background-color: #f0f8ff;border: 1px dotted black;border-radius: 0.25em;box-sizing: border-box;margin-bottom: 0.5em;}#sk-container-id-2 div.sk-estimator:hover {background-color: #d4ebff;}#sk-container-id-2 div.sk-parallel-item::after {content: \"\";width: 100%;border-bottom: 1px solid gray;flex-grow: 1;}#sk-container-id-2 div.sk-label:hover label.sk-toggleable__label {background-color: #d4ebff;}#sk-container-id-2 div.sk-serial::before {content: \"\";position: absolute;border-left: 1px solid gray;box-sizing: border-box;top: 0;bottom: 0;left: 50%;z-index: 0;}#sk-container-id-2 div.sk-serial {display: flex;flex-direction: column;align-items: center;background-color: white;padding-right: 0.2em;padding-left: 0.2em;position: relative;}#sk-container-id-2 div.sk-item {position: relative;z-index: 1;}#sk-container-id-2 div.sk-parallel {display: flex;align-items: stretch;justify-content: center;background-color: white;position: relative;}#sk-container-id-2 div.sk-item::before, #sk-container-id-2 div.sk-parallel-item::before {content: \"\";position: absolute;border-left: 1px solid gray;box-sizing: border-box;top: 0;bottom: 0;left: 50%;z-index: -1;}#sk-container-id-2 div.sk-parallel-item {display: flex;flex-direction: column;z-index: 1;position: relative;background-color: white;}#sk-container-id-2 div.sk-parallel-item:first-child::after {align-self: flex-end;width: 50%;}#sk-container-id-2 div.sk-parallel-item:last-child::after {align-self: flex-start;width: 50%;}#sk-container-id-2 div.sk-parallel-item:only-child::after {width: 0;}#sk-container-id-2 div.sk-dashed-wrapped {border: 1px dashed gray;margin: 0 0.4em 0.5em 0.4em;box-sizing: border-box;padding-bottom: 0.4em;background-color: white;}#sk-container-id-2 div.sk-label label {font-family: monospace;font-weight: bold;display: inline-block;line-height: 1.2em;}#sk-container-id-2 div.sk-label-container {text-align: center;}#sk-container-id-2 div.sk-container {/* jupyter's `normalize.less` sets `[hidden] { display: none; }` but bootstrap.min.css set `[hidden] { display: none !important; }` so we also need the `!important` here to be able to override the default hidden behavior on the sphinx rendered scikit-learn.org. See: https://github.com/scikit-learn/scikit-learn/issues/21755 */display: inline-block !important;position: relative;}#sk-container-id-2 div.sk-text-repr-fallback {display: none;}</style><div id=\"sk-container-id-2\" class=\"sk-top-container\"><div class=\"sk-text-repr-fallback\"><pre>LogisticRegression()</pre><b>In a Jupyter environment, please rerun this cell to show the HTML representation or trust the notebook. <br />On GitHub, the HTML representation is unable to render, please try loading this page with nbviewer.org.</b></div><div class=\"sk-container\" hidden><div class=\"sk-item\"><div class=\"sk-estimator sk-toggleable\"><input class=\"sk-toggleable__control sk-hidden--visually\" id=\"sk-estimator-id-2\" type=\"checkbox\" checked><label for=\"sk-estimator-id-2\" class=\"sk-toggleable__label sk-toggleable__label-arrow\">LogisticRegression</label><div class=\"sk-toggleable__content\"><pre>LogisticRegression()</pre></div></div></div></div></div>"
      ],
      "text/plain": [
       "LogisticRegression()"
      ]
     },
     "execution_count": 40,
     "metadata": {},
     "output_type": "execute_result"
    }
   ],
   "source": [
    "from sklearn.linear_model import LogisticRegression\n",
    "classifier= LogisticRegression()\n",
    "classifier.fit(X_train_bow,y_train)"
   ]
  },
  {
   "cell_type": "code",
   "execution_count": 41,
   "id": "1f74c62b",
   "metadata": {},
   "outputs": [],
   "source": [
    "y_test_pred = classifier.predict(X_test_bow)"
   ]
  },
  {
   "cell_type": "code",
   "execution_count": 42,
   "id": "13b93ec2",
   "metadata": {},
   "outputs": [
    {
     "name": "stdout",
     "output_type": "stream",
     "text": [
      "0.7395883265191033\n",
      "              precision    recall  f1-score   support\n",
      "\n",
      "           1       0.67      0.67      0.67     13085\n",
      "           2       0.44      0.26      0.33      7401\n",
      "           3       0.47      0.30      0.37     10672\n",
      "           4       0.53      0.27      0.35     20264\n",
      "           5       0.80      0.95      0.87     90438\n",
      "\n",
      "    accuracy                           0.74    141860\n",
      "   macro avg       0.58      0.49      0.52    141860\n",
      "weighted avg       0.70      0.74      0.71    141860\n",
      "\n"
     ]
    }
   ],
   "source": [
    "from sklearn.metrics import accuracy_score, classification_report\n",
    "\n",
    "print(accuracy_score(y_test, y_test_pred))\n",
    "\n",
    "print(classification_report(y_test, y_test_pred))"
   ]
  },
  {
   "cell_type": "code",
   "execution_count": 43,
   "id": "0dbd2a57",
   "metadata": {},
   "outputs": [],
   "source": [
    "import joblib\n",
    "from joblib import dump, load"
   ]
  },
  {
   "cell_type": "code",
   "execution_count": 44,
   "id": "8fdf0e93",
   "metadata": {},
   "outputs": [
    {
     "data": {
      "text/plain": [
       "['logistic_Regression']"
      ]
     },
     "execution_count": 44,
     "metadata": {},
     "output_type": "execute_result"
    }
   ],
   "source": [
    "joblib.dump(classifier,'logistic_Regression')"
   ]
  },
  {
   "cell_type": "markdown",
   "id": "11ac1d78",
   "metadata": {},
   "source": [
    "## Decision Tree Classifier"
   ]
  },
  {
   "cell_type": "code",
   "execution_count": 45,
   "id": "4d5aae09",
   "metadata": {},
   "outputs": [
    {
     "data": {
      "text/html": [
       "<style>#sk-container-id-3 {color: black;background-color: white;}#sk-container-id-3 pre{padding: 0;}#sk-container-id-3 div.sk-toggleable {background-color: white;}#sk-container-id-3 label.sk-toggleable__label {cursor: pointer;display: block;width: 100%;margin-bottom: 0;padding: 0.3em;box-sizing: border-box;text-align: center;}#sk-container-id-3 label.sk-toggleable__label-arrow:before {content: \"▸\";float: left;margin-right: 0.25em;color: #696969;}#sk-container-id-3 label.sk-toggleable__label-arrow:hover:before {color: black;}#sk-container-id-3 div.sk-estimator:hover label.sk-toggleable__label-arrow:before {color: black;}#sk-container-id-3 div.sk-toggleable__content {max-height: 0;max-width: 0;overflow: hidden;text-align: left;background-color: #f0f8ff;}#sk-container-id-3 div.sk-toggleable__content pre {margin: 0.2em;color: black;border-radius: 0.25em;background-color: #f0f8ff;}#sk-container-id-3 input.sk-toggleable__control:checked~div.sk-toggleable__content {max-height: 200px;max-width: 100%;overflow: auto;}#sk-container-id-3 input.sk-toggleable__control:checked~label.sk-toggleable__label-arrow:before {content: \"▾\";}#sk-container-id-3 div.sk-estimator input.sk-toggleable__control:checked~label.sk-toggleable__label {background-color: #d4ebff;}#sk-container-id-3 div.sk-label input.sk-toggleable__control:checked~label.sk-toggleable__label {background-color: #d4ebff;}#sk-container-id-3 input.sk-hidden--visually {border: 0;clip: rect(1px 1px 1px 1px);clip: rect(1px, 1px, 1px, 1px);height: 1px;margin: -1px;overflow: hidden;padding: 0;position: absolute;width: 1px;}#sk-container-id-3 div.sk-estimator {font-family: monospace;background-color: #f0f8ff;border: 1px dotted black;border-radius: 0.25em;box-sizing: border-box;margin-bottom: 0.5em;}#sk-container-id-3 div.sk-estimator:hover {background-color: #d4ebff;}#sk-container-id-3 div.sk-parallel-item::after {content: \"\";width: 100%;border-bottom: 1px solid gray;flex-grow: 1;}#sk-container-id-3 div.sk-label:hover label.sk-toggleable__label {background-color: #d4ebff;}#sk-container-id-3 div.sk-serial::before {content: \"\";position: absolute;border-left: 1px solid gray;box-sizing: border-box;top: 0;bottom: 0;left: 50%;z-index: 0;}#sk-container-id-3 div.sk-serial {display: flex;flex-direction: column;align-items: center;background-color: white;padding-right: 0.2em;padding-left: 0.2em;position: relative;}#sk-container-id-3 div.sk-item {position: relative;z-index: 1;}#sk-container-id-3 div.sk-parallel {display: flex;align-items: stretch;justify-content: center;background-color: white;position: relative;}#sk-container-id-3 div.sk-item::before, #sk-container-id-3 div.sk-parallel-item::before {content: \"\";position: absolute;border-left: 1px solid gray;box-sizing: border-box;top: 0;bottom: 0;left: 50%;z-index: -1;}#sk-container-id-3 div.sk-parallel-item {display: flex;flex-direction: column;z-index: 1;position: relative;background-color: white;}#sk-container-id-3 div.sk-parallel-item:first-child::after {align-self: flex-end;width: 50%;}#sk-container-id-3 div.sk-parallel-item:last-child::after {align-self: flex-start;width: 50%;}#sk-container-id-3 div.sk-parallel-item:only-child::after {width: 0;}#sk-container-id-3 div.sk-dashed-wrapped {border: 1px dashed gray;margin: 0 0.4em 0.5em 0.4em;box-sizing: border-box;padding-bottom: 0.4em;background-color: white;}#sk-container-id-3 div.sk-label label {font-family: monospace;font-weight: bold;display: inline-block;line-height: 1.2em;}#sk-container-id-3 div.sk-label-container {text-align: center;}#sk-container-id-3 div.sk-container {/* jupyter's `normalize.less` sets `[hidden] { display: none; }` but bootstrap.min.css set `[hidden] { display: none !important; }` so we also need the `!important` here to be able to override the default hidden behavior on the sphinx rendered scikit-learn.org. See: https://github.com/scikit-learn/scikit-learn/issues/21755 */display: inline-block !important;position: relative;}#sk-container-id-3 div.sk-text-repr-fallback {display: none;}</style><div id=\"sk-container-id-3\" class=\"sk-top-container\"><div class=\"sk-text-repr-fallback\"><pre>DecisionTreeClassifier()</pre><b>In a Jupyter environment, please rerun this cell to show the HTML representation or trust the notebook. <br />On GitHub, the HTML representation is unable to render, please try loading this page with nbviewer.org.</b></div><div class=\"sk-container\" hidden><div class=\"sk-item\"><div class=\"sk-estimator sk-toggleable\"><input class=\"sk-toggleable__control sk-hidden--visually\" id=\"sk-estimator-id-3\" type=\"checkbox\" checked><label for=\"sk-estimator-id-3\" class=\"sk-toggleable__label sk-toggleable__label-arrow\">DecisionTreeClassifier</label><div class=\"sk-toggleable__content\"><pre>DecisionTreeClassifier()</pre></div></div></div></div></div>"
      ],
      "text/plain": [
       "DecisionTreeClassifier()"
      ]
     },
     "execution_count": 45,
     "metadata": {},
     "output_type": "execute_result"
    }
   ],
   "source": [
    "from sklearn.tree import DecisionTreeClassifier\n",
    "classifier = DecisionTreeClassifier()\n",
    "classifier.fit(X_train_bow, y_train)"
   ]
  },
  {
   "cell_type": "code",
   "execution_count": 46,
   "id": "daafd610",
   "metadata": {},
   "outputs": [],
   "source": [
    "y_test_pred = classifier.predict(X_test_bow)"
   ]
  },
  {
   "cell_type": "code",
   "execution_count": 47,
   "id": "869b9ce7",
   "metadata": {},
   "outputs": [
    {
     "name": "stdout",
     "output_type": "stream",
     "text": [
      "0.7526011560693642\n",
      "              precision    recall  f1-score   support\n",
      "\n",
      "           1       0.64      0.62      0.63     13085\n",
      "           2       0.54      0.45      0.49      7401\n",
      "           3       0.54      0.48      0.51     10672\n",
      "           4       0.56      0.51      0.53     20264\n",
      "           5       0.84      0.88      0.86     90438\n",
      "\n",
      "    accuracy                           0.75    141860\n",
      "   macro avg       0.62      0.59      0.60    141860\n",
      "weighted avg       0.74      0.75      0.75    141860\n",
      "\n"
     ]
    }
   ],
   "source": [
    "from sklearn.metrics import accuracy_score, classification_report\n",
    "\n",
    "print(accuracy_score(y_test, y_test_pred))\n",
    "\n",
    "print(classification_report(y_test, y_test_pred))"
   ]
  },
  {
   "cell_type": "code",
   "execution_count": 48,
   "id": "02bc376d",
   "metadata": {},
   "outputs": [
    {
     "data": {
      "text/plain": [
       "['Decision_Tree']"
      ]
     },
     "execution_count": 48,
     "metadata": {},
     "output_type": "execute_result"
    }
   ],
   "source": [
    "joblib.dump(classifier,'Decision_Tree')"
   ]
  },
  {
   "cell_type": "markdown",
   "id": "3faead3a",
   "metadata": {},
   "source": [
    "## SVC"
   ]
  },
  {
   "cell_type": "code",
   "execution_count": 49,
   "id": "179a441b",
   "metadata": {},
   "outputs": [],
   "source": [
    "#from sklearn.svm import SVC\n",
    "#classifier = SVC()\n",
    "#classifier.fit(X_train_bow, y_train)"
   ]
  },
  {
   "cell_type": "code",
   "execution_count": 50,
   "id": "33ae189f",
   "metadata": {},
   "outputs": [],
   "source": [
    "#y_test_pred = classifier.predict(X_test_bow)\n",
    "#print(accuracy_score(y_test, y_test_pred))\n",
    "\n",
    "#print(classification_report(y_test, y_test_pred))"
   ]
  },
  {
   "cell_type": "markdown",
   "id": "97372eb5",
   "metadata": {},
   "source": [
    "# MODEL DEPLOYMENT"
   ]
  },
  {
   "cell_type": "code",
   "execution_count": 56,
   "id": "de414d36",
   "metadata": {},
   "outputs": [],
   "source": [
    "model=joblib.load(\"logistic_Regression\")"
   ]
  },
  {
   "cell_type": "code",
   "execution_count": 66,
   "id": "6a12fc9e",
   "metadata": {},
   "outputs": [],
   "source": [
    "x=model.predict(X_test_bow)"
   ]
  },
  {
   "cell_type": "code",
   "execution_count": 77,
   "id": "b35df435",
   "metadata": {},
   "outputs": [
    {
     "data": {
      "text/plain": [
       "(array([1, 2, 3, 4, 5], dtype=int64),\n",
       " array([ 12993,   4409,   6902,  10197, 107359], dtype=int64))"
      ]
     },
     "execution_count": 77,
     "metadata": {},
     "output_type": "execute_result"
    }
   ],
   "source": [
    "np. unique(x,return_counts=True)"
   ]
  },
  {
   "cell_type": "code",
   "execution_count": 85,
   "id": "56706e5e",
   "metadata": {},
   "outputs": [
    {
     "data": {
      "text/plain": [
       "<1x83171 sparse matrix of type '<class 'numpy.int64'>'\n",
       "\twith 23 stored elements in Compressed Sparse Row format>"
      ]
     },
     "execution_count": 85,
     "metadata": {},
     "output_type": "execute_result"
    }
   ],
   "source": [
    "X_test_bow[0]"
   ]
  },
  {
   "cell_type": "markdown",
   "id": "dc006b5a",
   "metadata": {},
   "source": [
    "# Model Texting"
   ]
  },
  {
   "cell_type": "code",
   "execution_count": 145,
   "id": "8cd39cdf",
   "metadata": {},
   "outputs": [
    {
     "name": "stdout",
     "output_type": "stream",
     "text": [
      "Enter your Review:It was amazing, never tried it.\n",
      "It was amazing, never tried it.\n",
      "Score: [5]\n"
     ]
    }
   ],
   "source": [
    "new_input=input(\"Enter your Review:\")\n",
    "new_input_pro=preprocess(new_input,'lemma')\n",
    "df=pd.DataFrame(new_input_pro)\n",
    "df.columns=[\"Review\"]\n",
    "new_input_vec=vocab.transform(df)\n",
    "new_output =model.predict(new_input_vec)\n",
    "\n",
    "print(new_input)\n",
    "print(\"Score:\",new_output)"
   ]
  },
  {
   "cell_type": "code",
   "execution_count": 143,
   "id": "c22b5305",
   "metadata": {},
   "outputs": [],
   "source": [
    "model2=joblib.load(\"logistic_Regression_TFIDF\")"
   ]
  },
  {
   "cell_type": "code",
   "execution_count": 144,
   "id": "8c0d1fe6",
   "metadata": {},
   "outputs": [
    {
     "name": "stdout",
     "output_type": "stream",
     "text": [
      "Enter your Review:It was a bad food\n",
      "It was a bad food\n",
      "Score: [1]\n"
     ]
    }
   ],
   "source": [
    "new_input=input(\"Enter your Review:\")\n",
    "new_input_pro=preprocess(new_input,'lemma')\n",
    "df=pd.DataFrame(new_input_pro)\n",
    "df.columns=[\"Review\"]\n",
    "new_input_vec=vocab.transform(df)\n",
    "new_output =model2.predict(new_input_vec)\n",
    "\n",
    "print(new_input)\n",
    "print(\"Score:\",new_output)"
   ]
  },
  {
   "cell_type": "code",
   "execution_count": null,
   "id": "ad2a13a3",
   "metadata": {},
   "outputs": [],
   "source": []
  }
 ],
 "metadata": {
  "kernelspec": {
   "display_name": "Python 3 (ipykernel)",
   "language": "python",
   "name": "python3"
  },
  "language_info": {
   "codemirror_mode": {
    "name": "ipython",
    "version": 3
   },
   "file_extension": ".py",
   "mimetype": "text/x-python",
   "name": "python",
   "nbconvert_exporter": "python",
   "pygments_lexer": "ipython3",
   "version": "3.9.12"
  }
 },
 "nbformat": 4,
 "nbformat_minor": 5
}
