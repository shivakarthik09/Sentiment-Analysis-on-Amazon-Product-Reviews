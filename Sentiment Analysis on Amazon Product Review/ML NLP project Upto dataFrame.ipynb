{
 "cells": [
  {
   "cell_type": "markdown",
   "id": "b95de648",
   "metadata": {},
   "source": [
    "# Text Data - Sentiment Analysis"
   ]
  },
  {
   "cell_type": "code",
   "execution_count": 2,
   "id": "6003e6ab",
   "metadata": {},
   "outputs": [],
   "source": [
    "import zipfile\n",
    "import os\n",
    "import pandas as pd"
   ]
  },
  {
   "cell_type": "code",
   "execution_count": 3,
   "id": "85b36044",
   "metadata": {},
   "outputs": [],
   "source": [
    "from tqdm import tqdm"
   ]
  },
  {
   "cell_type": "markdown",
   "id": "4e28fd61",
   "metadata": {},
   "source": [
    "## Extraction of file using Zipfile"
   ]
  },
  {
   "cell_type": "code",
   "execution_count": null,
   "id": "e7e76ba4",
   "metadata": {},
   "outputs": [],
   "source": [
    "with zipfile.ZipFile(\"txt_reviews.zip\",'r') as zip_data:\n",
    "    tqdm(zip_data.extractall())"
   ]
  },
  {
   "cell_type": "code",
   "execution_count": 11,
   "id": "da9b46cf",
   "metadata": {},
   "outputs": [
    {
     "data": {
      "text/plain": [
       "<zipfile.ZipFile [closed]>"
      ]
     },
     "execution_count": 11,
     "metadata": {},
     "output_type": "execute_result"
    }
   ],
   "source": [
    "zip_data"
   ]
  },
  {
   "cell_type": "code",
   "execution_count": 4,
   "id": "9fab6f4f",
   "metadata": {},
   "outputs": [],
   "source": [
    "path=r\"C:\\Users\\pc\\Downloads\\Innomatics classes\\Machine learning 14 Nov 2022\\ML NLP project 17th dec\\txt_reviews/\"\n",
    "for files in os.listdir(path):\n",
    "    pass"
   ]
  },
  {
   "cell_type": "code",
   "execution_count": 1,
   "id": "ca2a26d2",
   "metadata": {},
   "outputs": [
    {
     "name": "stdout",
     "output_type": "stream",
     "text": [
      "ProductId: B000P41A28\n",
      "UserId: A3K3GNZWUYXRUT\n",
      "ProfileName: L. Bream\n",
      "HelpfulnessNumerator: 3\n",
      "HelpfulnessDenominator: 6\n",
      "Score: 5\n",
      "Time: 1214697600\n",
      "ReviewSummary: If you're worried about consitpation....\n",
      "ReviewText: I purchased this formula but was worried after reading the comments here that my 5 month old baby would suffer from constipation.  He did.  However, I really wanted to use organic formula so I added a few teaspoons of prunes to his cereal and within 12 hours - problem solved.  No constipation since and he has been on this formula for about 2 weeks. I give him some prune/cereal every 4 days.  If your baby is not yet on solids you might consider giving him a little apple or pear juice mixed with water.  This should do the trick also.  Don't let the constipation issue scare you off.\n",
      "\n"
     ]
    }
   ],
   "source": [
    " with open(\"txt_reviews/review_10001.txt\",'r',errors='ignore') as f:\n",
    "        print(f.read())"
   ]
  },
  {
   "cell_type": "code",
   "execution_count": 8,
   "id": "0a51c8d5",
   "metadata": {},
   "outputs": [],
   "source": [
    "ProductId=[]\n",
    "UserId=[]\n",
    "ProfileName=[]\n",
    "HelpfulnessNumerator=[]\n",
    "HelpfulnessDenominator=[]\n",
    "Score=[]\n",
    "Time=[]\n",
    "ReviewSummary=[]\n",
    "ReviewText=[]"
   ]
  },
  {
   "cell_type": "code",
   "execution_count": 10,
   "id": "0618b85f",
   "metadata": {},
   "outputs": [
    {
     "name": "stderr",
     "output_type": "stream",
     "text": [
      "100%|█████████████████████████████████████████████████████████████████████████| 568454/568454 [42:11<00:00, 224.58it/s]\n"
     ]
    }
   ],
   "source": [
    "for files in tqdm(os.listdir(path)):\n",
    "    with open(path+files,'r',errors='ignore') as f:\n",
    "        lines=f.readlines()\n",
    "        ProductId.append(lines[0].strip(\"\\n\"))\n",
    "        UserId.append(lines[1].strip(\"\\n\"))\n",
    "        ProfileName.append(lines[2].strip('\\n'))\n",
    "        HelpfulnessNumerator.append(lines[3].strip('\\n'))\n",
    "        HelpfulnessDenominator.append(lines[4].strip('\\n'))\n",
    "        Score.append(lines[5].strip('\\n'))\n",
    "        Time.append(lines[6].strip('\\n'))\n",
    "        ReviewSummary.append(lines[7].strip('\\n'))\n",
    "        ReviewText.append(lines[8].strip('\\n'))\n",
    "        "
   ]
  },
  {
   "cell_type": "code",
   "execution_count": 11,
   "id": "04830bf7",
   "metadata": {},
   "outputs": [
    {
     "data": {
      "text/html": [
       "<div>\n",
       "<style scoped>\n",
       "    .dataframe tbody tr th:only-of-type {\n",
       "        vertical-align: middle;\n",
       "    }\n",
       "\n",
       "    .dataframe tbody tr th {\n",
       "        vertical-align: top;\n",
       "    }\n",
       "\n",
       "    .dataframe thead th {\n",
       "        text-align: right;\n",
       "    }\n",
       "</style>\n",
       "<table border=\"1\" class=\"dataframe\">\n",
       "  <thead>\n",
       "    <tr style=\"text-align: right;\">\n",
       "      <th></th>\n",
       "      <th>ProductId</th>\n",
       "      <th>UserId</th>\n",
       "      <th>ProfileName</th>\n",
       "      <th>HelpfulnessNumerator</th>\n",
       "      <th>HelpfulnessDenominator</th>\n",
       "      <th>Score</th>\n",
       "      <th>Time</th>\n",
       "      <th>ReviewSummary</th>\n",
       "      <th>ReviewText</th>\n",
       "    </tr>\n",
       "  </thead>\n",
       "  <tbody>\n",
       "    <tr>\n",
       "      <th>0</th>\n",
       "      <td>ProductId: B001E4KFG0</td>\n",
       "      <td>UserId: A3SGXH7AUHU8GW</td>\n",
       "      <td>ProfileName: delmartian</td>\n",
       "      <td>HelpfulnessNumerator: 1</td>\n",
       "      <td>HelpfulnessDenominator: 1</td>\n",
       "      <td>Score: 5</td>\n",
       "      <td>Time: 1303862400</td>\n",
       "      <td>ReviewSummary: Good Quality Dog Food</td>\n",
       "      <td>ReviewText: I have bought several of the Vital...</td>\n",
       "    </tr>\n",
       "    <tr>\n",
       "      <th>1</th>\n",
       "      <td>ProductId: B00171APVA</td>\n",
       "      <td>UserId: A21BT40VZCCYT4</td>\n",
       "      <td>ProfileName: Carol A. Reed</td>\n",
       "      <td>HelpfulnessNumerator: 0</td>\n",
       "      <td>HelpfulnessDenominator: 0</td>\n",
       "      <td>Score: 5</td>\n",
       "      <td>Time: 1351209600</td>\n",
       "      <td>ReviewSummary: Healthy Dog Food</td>\n",
       "      <td>ReviewText: This is a very healthy dog food. G...</td>\n",
       "    </tr>\n",
       "    <tr>\n",
       "      <th>2</th>\n",
       "      <td>ProductId: B0019CW0HE</td>\n",
       "      <td>UserId: A2P6ACFZ8FTNVV</td>\n",
       "      <td>ProfileName: Melissa Benjamin</td>\n",
       "      <td>HelpfulnessNumerator: 0</td>\n",
       "      <td>HelpfulnessDenominator: 1</td>\n",
       "      <td>Score: 1</td>\n",
       "      <td>Time: 1331164800</td>\n",
       "      <td>ReviewSummary: Bad</td>\n",
       "      <td>ReviewText: I fed this to my Golden Retriever ...</td>\n",
       "    </tr>\n",
       "    <tr>\n",
       "      <th>3</th>\n",
       "      <td>ProductId: B006F2NYI2</td>\n",
       "      <td>UserId: A132DJVI37RB4X</td>\n",
       "      <td>ProfileName: Scottdrum</td>\n",
       "      <td>HelpfulnessNumerator: 2</td>\n",
       "      <td>HelpfulnessDenominator: 5</td>\n",
       "      <td>Score: 2</td>\n",
       "      <td>Time: 1332374400</td>\n",
       "      <td>ReviewSummary: Not hot, not habanero</td>\n",
       "      <td>ReviewText: I have to admit, I was a sucker fo...</td>\n",
       "    </tr>\n",
       "    <tr>\n",
       "      <th>4</th>\n",
       "      <td>ProductId: B000P41A28</td>\n",
       "      <td>UserId: A82WIMR4RSVLI</td>\n",
       "      <td>ProfileName: Emrose mom</td>\n",
       "      <td>HelpfulnessNumerator: 0</td>\n",
       "      <td>HelpfulnessDenominator: 1</td>\n",
       "      <td>Score: 4</td>\n",
       "      <td>Time: 1337472000</td>\n",
       "      <td>ReviewSummary: The best weve tried so far</td>\n",
       "      <td>ReviewText: We have a 7 week old... He had gas...</td>\n",
       "    </tr>\n",
       "    <tr>\n",
       "      <th>...</th>\n",
       "      <td>...</td>\n",
       "      <td>...</td>\n",
       "      <td>...</td>\n",
       "      <td>...</td>\n",
       "      <td>...</td>\n",
       "      <td>...</td>\n",
       "      <td>...</td>\n",
       "      <td>...</td>\n",
       "      <td>...</td>\n",
       "    </tr>\n",
       "    <tr>\n",
       "      <th>568449</th>\n",
       "      <td>ProductId: B000LQORDE</td>\n",
       "      <td>UserId: AL22WN8RBBOW7</td>\n",
       "      <td>ProfileName: LifeInTheCity \"trogg\"</td>\n",
       "      <td>HelpfulnessNumerator: 2</td>\n",
       "      <td>HelpfulnessDenominator: 5</td>\n",
       "      <td>Score: 5</td>\n",
       "      <td>Time: 1256428800</td>\n",
       "      <td>ReviewSummary: Good Stuff</td>\n",
       "      <td>ReviewText: I love these noodle.  A little to ...</td>\n",
       "    </tr>\n",
       "    <tr>\n",
       "      <th>568450</th>\n",
       "      <td>ProductId: B000LQORDE</td>\n",
       "      <td>UserId: A2P7HIRYYWVOBD</td>\n",
       "      <td>ProfileName: Mason</td>\n",
       "      <td>HelpfulnessNumerator: 2</td>\n",
       "      <td>HelpfulnessDenominator: 5</td>\n",
       "      <td>Score: 5</td>\n",
       "      <td>Time: 1254096000</td>\n",
       "      <td>ReviewSummary: yummy!</td>\n",
       "      <td>ReviewText: I just love it and will buy anothe...</td>\n",
       "    </tr>\n",
       "    <tr>\n",
       "      <th>568451</th>\n",
       "      <td>ProductId: B000LQORDE</td>\n",
       "      <td>UserId: A1K0ZH5MQFBA77</td>\n",
       "      <td>ProfileName: jennilight</td>\n",
       "      <td>HelpfulnessNumerator: 2</td>\n",
       "      <td>HelpfulnessDenominator: 5</td>\n",
       "      <td>Score: 4</td>\n",
       "      <td>Time: 1250985600</td>\n",
       "      <td>ReviewSummary: Tastes like More!</td>\n",
       "      <td>ReviewText: My late father in law used to have...</td>\n",
       "    </tr>\n",
       "    <tr>\n",
       "      <th>568452</th>\n",
       "      <td>ProductId: B000LQORDE</td>\n",
       "      <td>UserId: A29FRN2O7LWINL</td>\n",
       "      <td>ProfileName: T. Tsai</td>\n",
       "      <td>HelpfulnessNumerator: 2</td>\n",
       "      <td>HelpfulnessDenominator: 5</td>\n",
       "      <td>Score: 5</td>\n",
       "      <td>Time: 1237766400</td>\n",
       "      <td>ReviewSummary: Great ramen</td>\n",
       "      <td>ReviewText: This is my favorite brand of Korea...</td>\n",
       "    </tr>\n",
       "    <tr>\n",
       "      <th>568453</th>\n",
       "      <td>ProductId: B000LQORDE</td>\n",
       "      <td>UserId: A9Q950IPXJR1D</td>\n",
       "      <td>ProfileName: Lynda \"casual customer\"</td>\n",
       "      <td>HelpfulnessNumerator: 2</td>\n",
       "      <td>HelpfulnessDenominator: 5</td>\n",
       "      <td>Score: 4</td>\n",
       "      <td>Time: 1237161600</td>\n",
       "      <td>ReviewSummary: Spicy!!</td>\n",
       "      <td>ReviewText: I do like these noodles although, ...</td>\n",
       "    </tr>\n",
       "  </tbody>\n",
       "</table>\n",
       "<p>568454 rows × 9 columns</p>\n",
       "</div>"
      ],
      "text/plain": [
       "                    ProductId                  UserId  \\\n",
       "0       ProductId: B001E4KFG0  UserId: A3SGXH7AUHU8GW   \n",
       "1       ProductId: B00171APVA  UserId: A21BT40VZCCYT4   \n",
       "2       ProductId: B0019CW0HE  UserId: A2P6ACFZ8FTNVV   \n",
       "3       ProductId: B006F2NYI2  UserId: A132DJVI37RB4X   \n",
       "4       ProductId: B000P41A28   UserId: A82WIMR4RSVLI   \n",
       "...                       ...                     ...   \n",
       "568449  ProductId: B000LQORDE   UserId: AL22WN8RBBOW7   \n",
       "568450  ProductId: B000LQORDE  UserId: A2P7HIRYYWVOBD   \n",
       "568451  ProductId: B000LQORDE  UserId: A1K0ZH5MQFBA77   \n",
       "568452  ProductId: B000LQORDE  UserId: A29FRN2O7LWINL   \n",
       "568453  ProductId: B000LQORDE   UserId: A9Q950IPXJR1D   \n",
       "\n",
       "                                 ProfileName     HelpfulnessNumerator  \\\n",
       "0                    ProfileName: delmartian  HelpfulnessNumerator: 1   \n",
       "1                 ProfileName: Carol A. Reed  HelpfulnessNumerator: 0   \n",
       "2              ProfileName: Melissa Benjamin  HelpfulnessNumerator: 0   \n",
       "3                     ProfileName: Scottdrum  HelpfulnessNumerator: 2   \n",
       "4                    ProfileName: Emrose mom  HelpfulnessNumerator: 0   \n",
       "...                                      ...                      ...   \n",
       "568449    ProfileName: LifeInTheCity \"trogg\"  HelpfulnessNumerator: 2   \n",
       "568450                    ProfileName: Mason  HelpfulnessNumerator: 2   \n",
       "568451               ProfileName: jennilight  HelpfulnessNumerator: 2   \n",
       "568452                  ProfileName: T. Tsai  HelpfulnessNumerator: 2   \n",
       "568453  ProfileName: Lynda \"casual customer\"  HelpfulnessNumerator: 2   \n",
       "\n",
       "           HelpfulnessDenominator     Score              Time  \\\n",
       "0       HelpfulnessDenominator: 1  Score: 5  Time: 1303862400   \n",
       "1       HelpfulnessDenominator: 0  Score: 5  Time: 1351209600   \n",
       "2       HelpfulnessDenominator: 1  Score: 1  Time: 1331164800   \n",
       "3       HelpfulnessDenominator: 5  Score: 2  Time: 1332374400   \n",
       "4       HelpfulnessDenominator: 1  Score: 4  Time: 1337472000   \n",
       "...                           ...       ...               ...   \n",
       "568449  HelpfulnessDenominator: 5  Score: 5  Time: 1256428800   \n",
       "568450  HelpfulnessDenominator: 5  Score: 5  Time: 1254096000   \n",
       "568451  HelpfulnessDenominator: 5  Score: 4  Time: 1250985600   \n",
       "568452  HelpfulnessDenominator: 5  Score: 5  Time: 1237766400   \n",
       "568453  HelpfulnessDenominator: 5  Score: 4  Time: 1237161600   \n",
       "\n",
       "                                    ReviewSummary  \\\n",
       "0            ReviewSummary: Good Quality Dog Food   \n",
       "1                 ReviewSummary: Healthy Dog Food   \n",
       "2                              ReviewSummary: Bad   \n",
       "3            ReviewSummary: Not hot, not habanero   \n",
       "4       ReviewSummary: The best weve tried so far   \n",
       "...                                           ...   \n",
       "568449                  ReviewSummary: Good Stuff   \n",
       "568450                      ReviewSummary: yummy!   \n",
       "568451           ReviewSummary: Tastes like More!   \n",
       "568452                 ReviewSummary: Great ramen   \n",
       "568453                     ReviewSummary: Spicy!!   \n",
       "\n",
       "                                               ReviewText  \n",
       "0       ReviewText: I have bought several of the Vital...  \n",
       "1       ReviewText: This is a very healthy dog food. G...  \n",
       "2       ReviewText: I fed this to my Golden Retriever ...  \n",
       "3       ReviewText: I have to admit, I was a sucker fo...  \n",
       "4       ReviewText: We have a 7 week old... He had gas...  \n",
       "...                                                   ...  \n",
       "568449  ReviewText: I love these noodle.  A little to ...  \n",
       "568450  ReviewText: I just love it and will buy anothe...  \n",
       "568451  ReviewText: My late father in law used to have...  \n",
       "568452  ReviewText: This is my favorite brand of Korea...  \n",
       "568453  ReviewText: I do like these noodles although, ...  \n",
       "\n",
       "[568454 rows x 9 columns]"
      ]
     },
     "execution_count": 11,
     "metadata": {},
     "output_type": "execute_result"
    }
   ],
   "source": [
    "df=pd.DataFrame({'ProductId':ProductId,'UserId':UserId,'ProfileName':ProfileName,'HelpfulnessNumerator':HelpfulnessNumerator,'HelpfulnessDenominator':HelpfulnessDenominator,'Score':Score,'Time':Time,'ReviewSummary':ReviewSummary,'ReviewText':ReviewText})\n",
    "df"
   ]
  },
  {
   "cell_type": "code",
   "execution_count": 14,
   "id": "c7108a07",
   "metadata": {},
   "outputs": [
    {
     "data": {
      "text/plain": [
       "568454"
      ]
     },
     "execution_count": 14,
     "metadata": {},
     "output_type": "execute_result"
    }
   ],
   "source": [
    "len(ProductId)"
   ]
  },
  {
   "cell_type": "code",
   "execution_count": 12,
   "id": "9cbfeb37",
   "metadata": {},
   "outputs": [],
   "source": [
    "saving the dataframe\n",
    "df.to_csv('datauncleaned.csv')"
   ]
  }
 ],
 "metadata": {
  "kernelspec": {
   "display_name": "Python 3 (ipykernel)",
   "language": "python",
   "name": "python3"
  },
  "language_info": {
   "codemirror_mode": {
    "name": "ipython",
    "version": 3
   },
   "file_extension": ".py",
   "mimetype": "text/x-python",
   "name": "python",
   "nbconvert_exporter": "python",
   "pygments_lexer": "ipython3",
   "version": "3.9.12"
  }
 },
 "nbformat": 4,
 "nbformat_minor": 5
}
