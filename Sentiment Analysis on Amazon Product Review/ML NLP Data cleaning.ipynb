{
 "cells": [
  {
   "cell_type": "code",
   "execution_count": 1,
   "id": "1ad14b41",
   "metadata": {},
   "outputs": [],
   "source": [
    "import pandas as pd\n",
    "import re\n",
    "import seaborn as sns"
   ]
  },
  {
   "cell_type": "code",
   "execution_count": 2,
   "id": "1eae34bb",
   "metadata": {},
   "outputs": [],
   "source": [
    "from datetime import datetime"
   ]
  },
  {
   "cell_type": "code",
   "execution_count": 3,
   "id": "b18070a4",
   "metadata": {},
   "outputs": [
    {
     "data": {
      "text/html": [
       "<div>\n",
       "<style scoped>\n",
       "    .dataframe tbody tr th:only-of-type {\n",
       "        vertical-align: middle;\n",
       "    }\n",
       "\n",
       "    .dataframe tbody tr th {\n",
       "        vertical-align: top;\n",
       "    }\n",
       "\n",
       "    .dataframe thead th {\n",
       "        text-align: right;\n",
       "    }\n",
       "</style>\n",
       "<table border=\"1\" class=\"dataframe\">\n",
       "  <thead>\n",
       "    <tr style=\"text-align: right;\">\n",
       "      <th></th>\n",
       "      <th>Unnamed: 0</th>\n",
       "      <th>ProductId</th>\n",
       "      <th>UserId</th>\n",
       "      <th>ProfileName</th>\n",
       "      <th>HelpfulnessNumerator</th>\n",
       "      <th>HelpfulnessDenominator</th>\n",
       "      <th>Score</th>\n",
       "      <th>Time</th>\n",
       "      <th>ReviewSummary</th>\n",
       "      <th>ReviewText</th>\n",
       "    </tr>\n",
       "  </thead>\n",
       "  <tbody>\n",
       "    <tr>\n",
       "      <th>0</th>\n",
       "      <td>0</td>\n",
       "      <td>ProductId: B001E4KFG0</td>\n",
       "      <td>UserId: A3SGXH7AUHU8GW</td>\n",
       "      <td>ProfileName: delmartian</td>\n",
       "      <td>HelpfulnessNumerator: 1</td>\n",
       "      <td>HelpfulnessDenominator: 1</td>\n",
       "      <td>Score: 5</td>\n",
       "      <td>Time: 1303862400</td>\n",
       "      <td>ReviewSummary: Good Quality Dog Food</td>\n",
       "      <td>ReviewText: I have bought several of the Vital...</td>\n",
       "    </tr>\n",
       "    <tr>\n",
       "      <th>1</th>\n",
       "      <td>1</td>\n",
       "      <td>ProductId: B00171APVA</td>\n",
       "      <td>UserId: A21BT40VZCCYT4</td>\n",
       "      <td>ProfileName: Carol A. Reed</td>\n",
       "      <td>HelpfulnessNumerator: 0</td>\n",
       "      <td>HelpfulnessDenominator: 0</td>\n",
       "      <td>Score: 5</td>\n",
       "      <td>Time: 1351209600</td>\n",
       "      <td>ReviewSummary: Healthy Dog Food</td>\n",
       "      <td>ReviewText: This is a very healthy dog food. G...</td>\n",
       "    </tr>\n",
       "    <tr>\n",
       "      <th>2</th>\n",
       "      <td>2</td>\n",
       "      <td>ProductId: B0019CW0HE</td>\n",
       "      <td>UserId: A2P6ACFZ8FTNVV</td>\n",
       "      <td>ProfileName: Melissa Benjamin</td>\n",
       "      <td>HelpfulnessNumerator: 0</td>\n",
       "      <td>HelpfulnessDenominator: 1</td>\n",
       "      <td>Score: 1</td>\n",
       "      <td>Time: 1331164800</td>\n",
       "      <td>ReviewSummary: Bad</td>\n",
       "      <td>ReviewText: I fed this to my Golden Retriever ...</td>\n",
       "    </tr>\n",
       "    <tr>\n",
       "      <th>3</th>\n",
       "      <td>3</td>\n",
       "      <td>ProductId: B006F2NYI2</td>\n",
       "      <td>UserId: A132DJVI37RB4X</td>\n",
       "      <td>ProfileName: Scottdrum</td>\n",
       "      <td>HelpfulnessNumerator: 2</td>\n",
       "      <td>HelpfulnessDenominator: 5</td>\n",
       "      <td>Score: 2</td>\n",
       "      <td>Time: 1332374400</td>\n",
       "      <td>ReviewSummary: Not hot, not habanero</td>\n",
       "      <td>ReviewText: I have to admit, I was a sucker fo...</td>\n",
       "    </tr>\n",
       "    <tr>\n",
       "      <th>4</th>\n",
       "      <td>4</td>\n",
       "      <td>ProductId: B000P41A28</td>\n",
       "      <td>UserId: A82WIMR4RSVLI</td>\n",
       "      <td>ProfileName: Emrose mom</td>\n",
       "      <td>HelpfulnessNumerator: 0</td>\n",
       "      <td>HelpfulnessDenominator: 1</td>\n",
       "      <td>Score: 4</td>\n",
       "      <td>Time: 1337472000</td>\n",
       "      <td>ReviewSummary: The best weve tried so far</td>\n",
       "      <td>ReviewText: We have a 7 week old... He had gas...</td>\n",
       "    </tr>\n",
       "  </tbody>\n",
       "</table>\n",
       "</div>"
      ],
      "text/plain": [
       "   Unnamed: 0              ProductId                  UserId  \\\n",
       "0           0  ProductId: B001E4KFG0  UserId: A3SGXH7AUHU8GW   \n",
       "1           1  ProductId: B00171APVA  UserId: A21BT40VZCCYT4   \n",
       "2           2  ProductId: B0019CW0HE  UserId: A2P6ACFZ8FTNVV   \n",
       "3           3  ProductId: B006F2NYI2  UserId: A132DJVI37RB4X   \n",
       "4           4  ProductId: B000P41A28   UserId: A82WIMR4RSVLI   \n",
       "\n",
       "                     ProfileName     HelpfulnessNumerator  \\\n",
       "0        ProfileName: delmartian  HelpfulnessNumerator: 1   \n",
       "1     ProfileName: Carol A. Reed  HelpfulnessNumerator: 0   \n",
       "2  ProfileName: Melissa Benjamin  HelpfulnessNumerator: 0   \n",
       "3         ProfileName: Scottdrum  HelpfulnessNumerator: 2   \n",
       "4        ProfileName: Emrose mom  HelpfulnessNumerator: 0   \n",
       "\n",
       "      HelpfulnessDenominator     Score              Time  \\\n",
       "0  HelpfulnessDenominator: 1  Score: 5  Time: 1303862400   \n",
       "1  HelpfulnessDenominator: 0  Score: 5  Time: 1351209600   \n",
       "2  HelpfulnessDenominator: 1  Score: 1  Time: 1331164800   \n",
       "3  HelpfulnessDenominator: 5  Score: 2  Time: 1332374400   \n",
       "4  HelpfulnessDenominator: 1  Score: 4  Time: 1337472000   \n",
       "\n",
       "                               ReviewSummary  \\\n",
       "0       ReviewSummary: Good Quality Dog Food   \n",
       "1            ReviewSummary: Healthy Dog Food   \n",
       "2                         ReviewSummary: Bad   \n",
       "3       ReviewSummary: Not hot, not habanero   \n",
       "4  ReviewSummary: The best weve tried so far   \n",
       "\n",
       "                                          ReviewText  \n",
       "0  ReviewText: I have bought several of the Vital...  \n",
       "1  ReviewText: This is a very healthy dog food. G...  \n",
       "2  ReviewText: I fed this to my Golden Retriever ...  \n",
       "3  ReviewText: I have to admit, I was a sucker fo...  \n",
       "4  ReviewText: We have a 7 week old... He had gas...  "
      ]
     },
     "execution_count": 3,
     "metadata": {},
     "output_type": "execute_result"
    }
   ],
   "source": [
    "df=pd.read_csv(\"datauncleaned.csv\")\n",
    "df.head()"
   ]
  },
  {
   "cell_type": "code",
   "execution_count": 4,
   "id": "bc2f90c0",
   "metadata": {},
   "outputs": [],
   "source": [
    "del df['Unnamed: 0']"
   ]
  },
  {
   "cell_type": "code",
   "execution_count": 5,
   "id": "787827bb",
   "metadata": {},
   "outputs": [],
   "source": [
    "lst=['ProductId',\n",
    "'UserId',\n",
    "'ProfileName',\n",
    "'HelpfulnessNumerator',\n",
    "'HelpfulnessDenominator',\n",
    "'Score',\n",
    "'Time',\n",
    "'ReviewSummary',\n",
    "'ReviewText']"
   ]
  },
  {
   "cell_type": "code",
   "execution_count": 6,
   "id": "06a10659",
   "metadata": {},
   "outputs": [],
   "source": [
    "for i in lst:\n",
    "    df[i].replace(to_replace= i+\":\", value='', regex=True,inplace= True)    \n",
    "    "
   ]
  },
  {
   "cell_type": "code",
   "execution_count": null,
   "id": "96b7e95e",
   "metadata": {},
   "outputs": [],
   "source": []
  },
  {
   "cell_type": "code",
   "execution_count": 7,
   "id": "c8133d28",
   "metadata": {},
   "outputs": [],
   "source": [
    "df.to_csv('datalittlecleaned.csv')"
   ]
  },
  {
   "cell_type": "code",
   "execution_count": 8,
   "id": "2fb7b434",
   "metadata": {},
   "outputs": [
    {
     "data": {
      "text/html": [
       "<div>\n",
       "<style scoped>\n",
       "    .dataframe tbody tr th:only-of-type {\n",
       "        vertical-align: middle;\n",
       "    }\n",
       "\n",
       "    .dataframe tbody tr th {\n",
       "        vertical-align: top;\n",
       "    }\n",
       "\n",
       "    .dataframe thead th {\n",
       "        text-align: right;\n",
       "    }\n",
       "</style>\n",
       "<table border=\"1\" class=\"dataframe\">\n",
       "  <thead>\n",
       "    <tr style=\"text-align: right;\">\n",
       "      <th></th>\n",
       "      <th>ProductId</th>\n",
       "      <th>UserId</th>\n",
       "      <th>ProfileName</th>\n",
       "      <th>HelpfulnessNumerator</th>\n",
       "      <th>HelpfulnessDenominator</th>\n",
       "      <th>Score</th>\n",
       "      <th>Time</th>\n",
       "      <th>ReviewSummary</th>\n",
       "      <th>ReviewText</th>\n",
       "    </tr>\n",
       "  </thead>\n",
       "  <tbody>\n",
       "    <tr>\n",
       "      <th>0</th>\n",
       "      <td>B001E4KFG0</td>\n",
       "      <td>A3SGXH7AUHU8GW</td>\n",
       "      <td>delmartian</td>\n",
       "      <td>1</td>\n",
       "      <td>1</td>\n",
       "      <td>5</td>\n",
       "      <td>1303862400</td>\n",
       "      <td>Good Quality Dog Food</td>\n",
       "      <td>I have bought several of the Vitality canned ...</td>\n",
       "    </tr>\n",
       "    <tr>\n",
       "      <th>1</th>\n",
       "      <td>B00171APVA</td>\n",
       "      <td>A21BT40VZCCYT4</td>\n",
       "      <td>Carol A. Reed</td>\n",
       "      <td>0</td>\n",
       "      <td>0</td>\n",
       "      <td>5</td>\n",
       "      <td>1351209600</td>\n",
       "      <td>Healthy Dog Food</td>\n",
       "      <td>This is a very healthy dog food. Good for the...</td>\n",
       "    </tr>\n",
       "    <tr>\n",
       "      <th>2</th>\n",
       "      <td>B0019CW0HE</td>\n",
       "      <td>A2P6ACFZ8FTNVV</td>\n",
       "      <td>Melissa Benjamin</td>\n",
       "      <td>0</td>\n",
       "      <td>1</td>\n",
       "      <td>1</td>\n",
       "      <td>1331164800</td>\n",
       "      <td>Bad</td>\n",
       "      <td>I fed this to my Golden Retriever and he hate...</td>\n",
       "    </tr>\n",
       "    <tr>\n",
       "      <th>3</th>\n",
       "      <td>B006F2NYI2</td>\n",
       "      <td>A132DJVI37RB4X</td>\n",
       "      <td>Scottdrum</td>\n",
       "      <td>2</td>\n",
       "      <td>5</td>\n",
       "      <td>2</td>\n",
       "      <td>1332374400</td>\n",
       "      <td>Not hot, not habanero</td>\n",
       "      <td>I have to admit, I was a sucker for the large...</td>\n",
       "    </tr>\n",
       "    <tr>\n",
       "      <th>4</th>\n",
       "      <td>B000P41A28</td>\n",
       "      <td>A82WIMR4RSVLI</td>\n",
       "      <td>Emrose mom</td>\n",
       "      <td>0</td>\n",
       "      <td>1</td>\n",
       "      <td>4</td>\n",
       "      <td>1337472000</td>\n",
       "      <td>The best weve tried so far</td>\n",
       "      <td>We have a 7 week old... He had gas and consti...</td>\n",
       "    </tr>\n",
       "  </tbody>\n",
       "</table>\n",
       "</div>"
      ],
      "text/plain": [
       "     ProductId           UserId        ProfileName HelpfulnessNumerator  \\\n",
       "0   B001E4KFG0   A3SGXH7AUHU8GW         delmartian                    1   \n",
       "1   B00171APVA   A21BT40VZCCYT4      Carol A. Reed                    0   \n",
       "2   B0019CW0HE   A2P6ACFZ8FTNVV   Melissa Benjamin                    0   \n",
       "3   B006F2NYI2   A132DJVI37RB4X          Scottdrum                    2   \n",
       "4   B000P41A28    A82WIMR4RSVLI         Emrose mom                    0   \n",
       "\n",
       "  HelpfulnessDenominator Score         Time                ReviewSummary  \\\n",
       "0                      1     5   1303862400        Good Quality Dog Food   \n",
       "1                      0     5   1351209600             Healthy Dog Food   \n",
       "2                      1     1   1331164800                          Bad   \n",
       "3                      5     2   1332374400        Not hot, not habanero   \n",
       "4                      1     4   1337472000   The best weve tried so far   \n",
       "\n",
       "                                          ReviewText  \n",
       "0   I have bought several of the Vitality canned ...  \n",
       "1   This is a very healthy dog food. Good for the...  \n",
       "2   I fed this to my Golden Retriever and he hate...  \n",
       "3   I have to admit, I was a sucker for the large...  \n",
       "4   We have a 7 week old... He had gas and consti...  "
      ]
     },
     "execution_count": 8,
     "metadata": {},
     "output_type": "execute_result"
    }
   ],
   "source": [
    "df.head()"
   ]
  },
  {
   "cell_type": "code",
   "execution_count": 9,
   "id": "5ea000a5",
   "metadata": {},
   "outputs": [
    {
     "name": "stdout",
     "output_type": "stream",
     "text": [
      "<class 'pandas.core.frame.DataFrame'>\n",
      "RangeIndex: 568454 entries, 0 to 568453\n",
      "Data columns (total 9 columns):\n",
      " #   Column                  Non-Null Count   Dtype \n",
      "---  ------                  --------------   ----- \n",
      " 0   ProductId               568454 non-null  object\n",
      " 1   UserId                  568454 non-null  object\n",
      " 2   ProfileName             568454 non-null  object\n",
      " 3   HelpfulnessNumerator    568454 non-null  object\n",
      " 4   HelpfulnessDenominator  568454 non-null  object\n",
      " 5   Score                   568454 non-null  object\n",
      " 6   Time                    568454 non-null  object\n",
      " 7   ReviewSummary           568454 non-null  object\n",
      " 8   ReviewText              568454 non-null  object\n",
      "dtypes: object(9)\n",
      "memory usage: 39.0+ MB\n"
     ]
    }
   ],
   "source": [
    "df.info()"
   ]
  },
  {
   "cell_type": "code",
   "execution_count": 10,
   "id": "2aab4e2c",
   "metadata": {},
   "outputs": [],
   "source": [
    "df['Score']=pd.to_numeric(df['Score'], errors='coerce')\n",
    "df['HelpfulnessNumerator']=pd.to_numeric(df['HelpfulnessNumerator'], errors='coerce')\n",
    "df['HelpfulnessDenominator']=pd.to_numeric(df['HelpfulnessDenominator'], errors='coerce')\n",
    "df['Time']=pd.to_numeric(df['Time'], errors='coerce')\n"
   ]
  },
  {
   "cell_type": "code",
   "execution_count": 11,
   "id": "5df5c9b6",
   "metadata": {},
   "outputs": [
    {
     "data": {
      "text/plain": [
       "ProductId                 object\n",
       "UserId                    object\n",
       "ProfileName               object\n",
       "HelpfulnessNumerator       int64\n",
       "HelpfulnessDenominator     int64\n",
       "Score                      int64\n",
       "Time                       int64\n",
       "ReviewSummary             object\n",
       "ReviewText                object\n",
       "dtype: object"
      ]
     },
     "execution_count": 11,
     "metadata": {},
     "output_type": "execute_result"
    }
   ],
   "source": [
    "df.dtypes"
   ]
  },
  {
   "cell_type": "code",
   "execution_count": 12,
   "id": "38ebb11f",
   "metadata": {},
   "outputs": [],
   "source": [
    "data=pd.read_csv('reviews.csv')"
   ]
  },
  {
   "cell_type": "code",
   "execution_count": 13,
   "id": "a568fd56",
   "metadata": {},
   "outputs": [
    {
     "data": {
      "text/html": [
       "<div>\n",
       "<style scoped>\n",
       "    .dataframe tbody tr th:only-of-type {\n",
       "        vertical-align: middle;\n",
       "    }\n",
       "\n",
       "    .dataframe tbody tr th {\n",
       "        vertical-align: top;\n",
       "    }\n",
       "\n",
       "    .dataframe thead th {\n",
       "        text-align: right;\n",
       "    }\n",
       "</style>\n",
       "<table border=\"1\" class=\"dataframe\">\n",
       "  <thead>\n",
       "    <tr style=\"text-align: right;\">\n",
       "      <th></th>\n",
       "      <th>Unnamed: 0.1</th>\n",
       "      <th>Unnamed: 0</th>\n",
       "      <th>ProductId</th>\n",
       "      <th>UserId</th>\n",
       "      <th>ProfileName</th>\n",
       "      <th>HelpfulnessNumerator</th>\n",
       "      <th>HelpfulnessDenominator</th>\n",
       "      <th>Score</th>\n",
       "      <th>Time</th>\n",
       "      <th>ReviewSummary</th>\n",
       "      <th>ReviewText</th>\n",
       "    </tr>\n",
       "  </thead>\n",
       "  <tbody>\n",
       "    <tr>\n",
       "      <th>0</th>\n",
       "      <td>0</td>\n",
       "      <td>0</td>\n",
       "      <td>B001E4KFG0</td>\n",
       "      <td>A3SGXH7AUHU8GW</td>\n",
       "      <td>delmartian</td>\n",
       "      <td>1</td>\n",
       "      <td>1</td>\n",
       "      <td>5</td>\n",
       "      <td>1303862400</td>\n",
       "      <td>Good Quality Dog Food</td>\n",
       "      <td>I have bought several of the Vitality canned ...</td>\n",
       "    </tr>\n",
       "    <tr>\n",
       "      <th>1</th>\n",
       "      <td>1</td>\n",
       "      <td>1</td>\n",
       "      <td>B00171APVA</td>\n",
       "      <td>A21BT40VZCCYT4</td>\n",
       "      <td>Carol A Reed</td>\n",
       "      <td>0</td>\n",
       "      <td>0</td>\n",
       "      <td>5</td>\n",
       "      <td>1351209600</td>\n",
       "      <td>Healthy Dog Food</td>\n",
       "      <td>This is a very healthy dog food Good for thei...</td>\n",
       "    </tr>\n",
       "    <tr>\n",
       "      <th>2</th>\n",
       "      <td>2</td>\n",
       "      <td>2</td>\n",
       "      <td>B0019CW0HE</td>\n",
       "      <td>A2P6ACFZ8FTNVV</td>\n",
       "      <td>Melissa Benjamin</td>\n",
       "      <td>0</td>\n",
       "      <td>1</td>\n",
       "      <td>1</td>\n",
       "      <td>1331164800</td>\n",
       "      <td>Bad</td>\n",
       "      <td>I fed this to my Golden Retriever and he hate...</td>\n",
       "    </tr>\n",
       "    <tr>\n",
       "      <th>3</th>\n",
       "      <td>3</td>\n",
       "      <td>3</td>\n",
       "      <td>B006F2NYI2</td>\n",
       "      <td>A132DJVI37RB4X</td>\n",
       "      <td>Scottdrum</td>\n",
       "      <td>2</td>\n",
       "      <td>5</td>\n",
       "      <td>2</td>\n",
       "      <td>1332374400</td>\n",
       "      <td>Not hot not habanero</td>\n",
       "      <td>I have to admit I was a sucker for the large ...</td>\n",
       "    </tr>\n",
       "    <tr>\n",
       "      <th>4</th>\n",
       "      <td>4</td>\n",
       "      <td>4</td>\n",
       "      <td>B000P41A28</td>\n",
       "      <td>A82WIMR4RSVLI</td>\n",
       "      <td>Emrose mom</td>\n",
       "      <td>0</td>\n",
       "      <td>1</td>\n",
       "      <td>4</td>\n",
       "      <td>1337472000</td>\n",
       "      <td>The best weve tried so far</td>\n",
       "      <td>We have a 7 week old He had gas and constipat...</td>\n",
       "    </tr>\n",
       "  </tbody>\n",
       "</table>\n",
       "</div>"
      ],
      "text/plain": [
       "   Unnamed: 0.1  Unnamed: 0    ProductId           UserId        ProfileName  \\\n",
       "0             0           0   B001E4KFG0   A3SGXH7AUHU8GW         delmartian   \n",
       "1             1           1   B00171APVA   A21BT40VZCCYT4       Carol A Reed   \n",
       "2             2           2   B0019CW0HE   A2P6ACFZ8FTNVV   Melissa Benjamin   \n",
       "3             3           3   B006F2NYI2   A132DJVI37RB4X          Scottdrum   \n",
       "4             4           4   B000P41A28    A82WIMR4RSVLI         Emrose mom   \n",
       "\n",
       "   HelpfulnessNumerator  HelpfulnessDenominator  Score        Time  \\\n",
       "0                     1                       1      5  1303862400   \n",
       "1                     0                       0      5  1351209600   \n",
       "2                     0                       1      1  1331164800   \n",
       "3                     2                       5      2  1332374400   \n",
       "4                     0                       1      4  1337472000   \n",
       "\n",
       "                 ReviewSummary  \\\n",
       "0        Good Quality Dog Food   \n",
       "1             Healthy Dog Food   \n",
       "2                          Bad   \n",
       "3         Not hot not habanero   \n",
       "4   The best weve tried so far   \n",
       "\n",
       "                                          ReviewText  \n",
       "0   I have bought several of the Vitality canned ...  \n",
       "1   This is a very healthy dog food Good for thei...  \n",
       "2   I fed this to my Golden Retriever and he hate...  \n",
       "3   I have to admit I was a sucker for the large ...  \n",
       "4   We have a 7 week old He had gas and constipat...  "
      ]
     },
     "execution_count": 13,
     "metadata": {},
     "output_type": "execute_result"
    }
   ],
   "source": [
    "data.head()"
   ]
  },
  {
   "cell_type": "code",
   "execution_count": 14,
   "id": "697e6cb4",
   "metadata": {},
   "outputs": [],
   "source": [
    "del data['Unnamed: 0']\n",
    "del data['Unnamed: 0.1']"
   ]
  },
  {
   "cell_type": "code",
   "execution_count": 15,
   "id": "20594af6",
   "metadata": {},
   "outputs": [
    {
     "data": {
      "text/html": [
       "<div>\n",
       "<style scoped>\n",
       "    .dataframe tbody tr th:only-of-type {\n",
       "        vertical-align: middle;\n",
       "    }\n",
       "\n",
       "    .dataframe tbody tr th {\n",
       "        vertical-align: top;\n",
       "    }\n",
       "\n",
       "    .dataframe thead th {\n",
       "        text-align: right;\n",
       "    }\n",
       "</style>\n",
       "<table border=\"1\" class=\"dataframe\">\n",
       "  <thead>\n",
       "    <tr style=\"text-align: right;\">\n",
       "      <th></th>\n",
       "      <th>ProductId</th>\n",
       "      <th>UserId</th>\n",
       "      <th>ProfileName</th>\n",
       "      <th>HelpfulnessNumerator</th>\n",
       "      <th>HelpfulnessDenominator</th>\n",
       "      <th>Score</th>\n",
       "      <th>Time</th>\n",
       "      <th>ReviewSummary</th>\n",
       "      <th>ReviewText</th>\n",
       "    </tr>\n",
       "  </thead>\n",
       "  <tbody>\n",
       "    <tr>\n",
       "      <th>0</th>\n",
       "      <td>B001E4KFG0</td>\n",
       "      <td>A3SGXH7AUHU8GW</td>\n",
       "      <td>delmartian</td>\n",
       "      <td>1</td>\n",
       "      <td>1</td>\n",
       "      <td>5</td>\n",
       "      <td>1303862400</td>\n",
       "      <td>Good Quality Dog Food</td>\n",
       "      <td>I have bought several of the Vitality canned ...</td>\n",
       "    </tr>\n",
       "    <tr>\n",
       "      <th>1</th>\n",
       "      <td>B00171APVA</td>\n",
       "      <td>A21BT40VZCCYT4</td>\n",
       "      <td>Carol A Reed</td>\n",
       "      <td>0</td>\n",
       "      <td>0</td>\n",
       "      <td>5</td>\n",
       "      <td>1351209600</td>\n",
       "      <td>Healthy Dog Food</td>\n",
       "      <td>This is a very healthy dog food Good for thei...</td>\n",
       "    </tr>\n",
       "    <tr>\n",
       "      <th>2</th>\n",
       "      <td>B0019CW0HE</td>\n",
       "      <td>A2P6ACFZ8FTNVV</td>\n",
       "      <td>Melissa Benjamin</td>\n",
       "      <td>0</td>\n",
       "      <td>1</td>\n",
       "      <td>1</td>\n",
       "      <td>1331164800</td>\n",
       "      <td>Bad</td>\n",
       "      <td>I fed this to my Golden Retriever and he hate...</td>\n",
       "    </tr>\n",
       "    <tr>\n",
       "      <th>3</th>\n",
       "      <td>B006F2NYI2</td>\n",
       "      <td>A132DJVI37RB4X</td>\n",
       "      <td>Scottdrum</td>\n",
       "      <td>2</td>\n",
       "      <td>5</td>\n",
       "      <td>2</td>\n",
       "      <td>1332374400</td>\n",
       "      <td>Not hot not habanero</td>\n",
       "      <td>I have to admit I was a sucker for the large ...</td>\n",
       "    </tr>\n",
       "    <tr>\n",
       "      <th>4</th>\n",
       "      <td>B000P41A28</td>\n",
       "      <td>A82WIMR4RSVLI</td>\n",
       "      <td>Emrose mom</td>\n",
       "      <td>0</td>\n",
       "      <td>1</td>\n",
       "      <td>4</td>\n",
       "      <td>1337472000</td>\n",
       "      <td>The best weve tried so far</td>\n",
       "      <td>We have a 7 week old He had gas and constipat...</td>\n",
       "    </tr>\n",
       "  </tbody>\n",
       "</table>\n",
       "</div>"
      ],
      "text/plain": [
       "     ProductId           UserId        ProfileName  HelpfulnessNumerator  \\\n",
       "0   B001E4KFG0   A3SGXH7AUHU8GW         delmartian                     1   \n",
       "1   B00171APVA   A21BT40VZCCYT4       Carol A Reed                     0   \n",
       "2   B0019CW0HE   A2P6ACFZ8FTNVV   Melissa Benjamin                     0   \n",
       "3   B006F2NYI2   A132DJVI37RB4X          Scottdrum                     2   \n",
       "4   B000P41A28    A82WIMR4RSVLI         Emrose mom                     0   \n",
       "\n",
       "   HelpfulnessDenominator  Score        Time                ReviewSummary  \\\n",
       "0                       1      5  1303862400        Good Quality Dog Food   \n",
       "1                       0      5  1351209600             Healthy Dog Food   \n",
       "2                       1      1  1331164800                          Bad   \n",
       "3                       5      2  1332374400         Not hot not habanero   \n",
       "4                       1      4  1337472000   The best weve tried so far   \n",
       "\n",
       "                                          ReviewText  \n",
       "0   I have bought several of the Vitality canned ...  \n",
       "1   This is a very healthy dog food Good for thei...  \n",
       "2   I fed this to my Golden Retriever and he hate...  \n",
       "3   I have to admit I was a sucker for the large ...  \n",
       "4   We have a 7 week old He had gas and constipat...  "
      ]
     },
     "execution_count": 15,
     "metadata": {},
     "output_type": "execute_result"
    }
   ],
   "source": [
    "data.head()"
   ]
  },
  {
   "cell_type": "code",
   "execution_count": 16,
   "id": "48fc278e",
   "metadata": {},
   "outputs": [],
   "source": [
    "data['Time'] = data['Time'].apply(lambda timestamp: datetime.fromtimestamp(timestamp))"
   ]
  },
  {
   "cell_type": "code",
   "execution_count": null,
   "id": "4897f1d3",
   "metadata": {},
   "outputs": [],
   "source": []
  },
  {
   "cell_type": "code",
   "execution_count": 17,
   "id": "3390220b",
   "metadata": {},
   "outputs": [
    {
     "data": {
      "text/plain": [
       "Timestamp('2012-10-26 05:30:00')"
      ]
     },
     "execution_count": 17,
     "metadata": {},
     "output_type": "execute_result"
    }
   ],
   "source": [
    "data['Time'].max()"
   ]
  },
  {
   "cell_type": "code",
   "execution_count": 18,
   "id": "90d4a879",
   "metadata": {},
   "outputs": [
    {
     "data": {
      "text/plain": [
       "Timestamp('1999-10-08 05:30:00')"
      ]
     },
     "execution_count": 18,
     "metadata": {},
     "output_type": "execute_result"
    }
   ],
   "source": [
    "data['Time'].min()"
   ]
  },
  {
   "cell_type": "code",
   "execution_count": 19,
   "id": "9f472b2c",
   "metadata": {},
   "outputs": [
    {
     "data": {
      "text/plain": [
       "ProductId                         object\n",
       "UserId                            object\n",
       "ProfileName                       object\n",
       "HelpfulnessNumerator               int64\n",
       "HelpfulnessDenominator             int64\n",
       "Score                              int64\n",
       "Time                      datetime64[ns]\n",
       "ReviewSummary                     object\n",
       "ReviewText                        object\n",
       "dtype: object"
      ]
     },
     "execution_count": 19,
     "metadata": {},
     "output_type": "execute_result"
    }
   ],
   "source": [
    "data.dtypes"
   ]
  },
  {
   "cell_type": "code",
   "execution_count": 20,
   "id": "b3434d32",
   "metadata": {},
   "outputs": [
    {
     "data": {
      "text/html": [
       "<div>\n",
       "<style scoped>\n",
       "    .dataframe tbody tr th:only-of-type {\n",
       "        vertical-align: middle;\n",
       "    }\n",
       "\n",
       "    .dataframe tbody tr th {\n",
       "        vertical-align: top;\n",
       "    }\n",
       "\n",
       "    .dataframe thead th {\n",
       "        text-align: right;\n",
       "    }\n",
       "</style>\n",
       "<table border=\"1\" class=\"dataframe\">\n",
       "  <thead>\n",
       "    <tr style=\"text-align: right;\">\n",
       "      <th></th>\n",
       "      <th>ProductId</th>\n",
       "      <th>UserId</th>\n",
       "      <th>ProfileName</th>\n",
       "      <th>HelpfulnessNumerator</th>\n",
       "      <th>HelpfulnessDenominator</th>\n",
       "      <th>Score</th>\n",
       "      <th>Time</th>\n",
       "      <th>ReviewSummary</th>\n",
       "      <th>ReviewText</th>\n",
       "    </tr>\n",
       "  </thead>\n",
       "  <tbody>\n",
       "    <tr>\n",
       "      <th>0</th>\n",
       "      <td>B001E4KFG0</td>\n",
       "      <td>A3SGXH7AUHU8GW</td>\n",
       "      <td>delmartian</td>\n",
       "      <td>1</td>\n",
       "      <td>1</td>\n",
       "      <td>5</td>\n",
       "      <td>2011-04-27 05:30:00</td>\n",
       "      <td>Good Quality Dog Food</td>\n",
       "      <td>I have bought several of the Vitality canned ...</td>\n",
       "    </tr>\n",
       "    <tr>\n",
       "      <th>1</th>\n",
       "      <td>B00171APVA</td>\n",
       "      <td>A21BT40VZCCYT4</td>\n",
       "      <td>Carol A Reed</td>\n",
       "      <td>0</td>\n",
       "      <td>0</td>\n",
       "      <td>5</td>\n",
       "      <td>2012-10-26 05:30:00</td>\n",
       "      <td>Healthy Dog Food</td>\n",
       "      <td>This is a very healthy dog food Good for thei...</td>\n",
       "    </tr>\n",
       "    <tr>\n",
       "      <th>2</th>\n",
       "      <td>B0019CW0HE</td>\n",
       "      <td>A2P6ACFZ8FTNVV</td>\n",
       "      <td>Melissa Benjamin</td>\n",
       "      <td>0</td>\n",
       "      <td>1</td>\n",
       "      <td>1</td>\n",
       "      <td>2012-03-08 05:30:00</td>\n",
       "      <td>Bad</td>\n",
       "      <td>I fed this to my Golden Retriever and he hate...</td>\n",
       "    </tr>\n",
       "    <tr>\n",
       "      <th>3</th>\n",
       "      <td>B006F2NYI2</td>\n",
       "      <td>A132DJVI37RB4X</td>\n",
       "      <td>Scottdrum</td>\n",
       "      <td>2</td>\n",
       "      <td>5</td>\n",
       "      <td>2</td>\n",
       "      <td>2012-03-22 05:30:00</td>\n",
       "      <td>Not hot not habanero</td>\n",
       "      <td>I have to admit I was a sucker for the large ...</td>\n",
       "    </tr>\n",
       "    <tr>\n",
       "      <th>4</th>\n",
       "      <td>B000P41A28</td>\n",
       "      <td>A82WIMR4RSVLI</td>\n",
       "      <td>Emrose mom</td>\n",
       "      <td>0</td>\n",
       "      <td>1</td>\n",
       "      <td>4</td>\n",
       "      <td>2012-05-20 05:30:00</td>\n",
       "      <td>The best weve tried so far</td>\n",
       "      <td>We have a 7 week old He had gas and constipat...</td>\n",
       "    </tr>\n",
       "  </tbody>\n",
       "</table>\n",
       "</div>"
      ],
      "text/plain": [
       "     ProductId           UserId        ProfileName  HelpfulnessNumerator  \\\n",
       "0   B001E4KFG0   A3SGXH7AUHU8GW         delmartian                     1   \n",
       "1   B00171APVA   A21BT40VZCCYT4       Carol A Reed                     0   \n",
       "2   B0019CW0HE   A2P6ACFZ8FTNVV   Melissa Benjamin                     0   \n",
       "3   B006F2NYI2   A132DJVI37RB4X          Scottdrum                     2   \n",
       "4   B000P41A28    A82WIMR4RSVLI         Emrose mom                     0   \n",
       "\n",
       "   HelpfulnessDenominator  Score                Time  \\\n",
       "0                       1      5 2011-04-27 05:30:00   \n",
       "1                       0      5 2012-10-26 05:30:00   \n",
       "2                       1      1 2012-03-08 05:30:00   \n",
       "3                       5      2 2012-03-22 05:30:00   \n",
       "4                       1      4 2012-05-20 05:30:00   \n",
       "\n",
       "                 ReviewSummary  \\\n",
       "0        Good Quality Dog Food   \n",
       "1             Healthy Dog Food   \n",
       "2                          Bad   \n",
       "3         Not hot not habanero   \n",
       "4   The best weve tried so far   \n",
       "\n",
       "                                          ReviewText  \n",
       "0   I have bought several of the Vitality canned ...  \n",
       "1   This is a very healthy dog food Good for thei...  \n",
       "2   I fed this to my Golden Retriever and he hate...  \n",
       "3   I have to admit I was a sucker for the large ...  \n",
       "4   We have a 7 week old He had gas and constipat...  "
      ]
     },
     "execution_count": 20,
     "metadata": {},
     "output_type": "execute_result"
    }
   ],
   "source": [
    "data.head()"
   ]
  },
  {
   "cell_type": "code",
   "execution_count": 21,
   "id": "372c178e",
   "metadata": {},
   "outputs": [],
   "source": [
    "#data['Helpfulness']=(data['HelpfulnessNumerator']/data['HelpfulnessDenominator'])"
   ]
  },
  {
   "cell_type": "code",
   "execution_count": 22,
   "id": "76dfe862",
   "metadata": {},
   "outputs": [],
   "source": [
    "#data1=data['Helpfulness']"
   ]
  },
  {
   "cell_type": "code",
   "execution_count": 23,
   "id": "0cf310a4",
   "metadata": {},
   "outputs": [
    {
     "data": {
      "text/plain": [
       "<AxesSubplot:xlabel='Score'>"
      ]
     },
     "execution_count": 23,
     "metadata": {},
     "output_type": "execute_result"
    },
    {
     "data": {
      "image/png": "[encoded data removed]",
      "text/plain": [
       "<Figure size 432x288 with 1 Axes>"
      ]
     },
     "metadata": {
      "needs_background": "light"
     },
     "output_type": "display_data"
    }
   ],
   "source": [
    "sns.boxplot(x=data[\"Score\"])"
   ]
  },
  {
   "cell_type": "code",
   "execution_count": 24,
   "id": "6a6f38a0",
   "metadata": {},
   "outputs": [
    {
     "data": {
      "text/plain": [
       "294"
      ]
     },
     "execution_count": 24,
     "metadata": {},
     "output_type": "execute_result"
    }
   ],
   "source": [
    "data.duplicated().sum()"
   ]
  },
  {
   "cell_type": "code",
   "execution_count": 25,
   "id": "62ecffe0",
   "metadata": {},
   "outputs": [],
   "source": [
    "data.drop_duplicates(inplace = True)"
   ]
  },
  {
   "cell_type": "code",
   "execution_count": 26,
   "id": "8db21a9f",
   "metadata": {},
   "outputs": [
    {
     "data": {
      "text/plain": [
       "ProductId                   0\n",
       "UserId                      0\n",
       "ProfileName               462\n",
       "HelpfulnessNumerator        0\n",
       "HelpfulnessDenominator      0\n",
       "Score                       0\n",
       "Time                        0\n",
       "ReviewSummary             263\n",
       "ReviewText                  1\n",
       "dtype: int64"
      ]
     },
     "execution_count": 26,
     "metadata": {},
     "output_type": "execute_result"
    }
   ],
   "source": [
    "data.isnull().sum()"
   ]
  },
  {
   "cell_type": "code",
   "execution_count": 27,
   "id": "c5f8ed74",
   "metadata": {},
   "outputs": [],
   "source": [
    "data.dropna(inplace=True)"
   ]
  },
  {
   "cell_type": "code",
   "execution_count": 28,
   "id": "52d17610",
   "metadata": {},
   "outputs": [
    {
     "data": {
      "text/plain": [
       "ProductId                 0\n",
       "UserId                    0\n",
       "ProfileName               0\n",
       "HelpfulnessNumerator      0\n",
       "HelpfulnessDenominator    0\n",
       "Score                     0\n",
       "Time                      0\n",
       "ReviewSummary             0\n",
       "ReviewText                0\n",
       "dtype: int64"
      ]
     },
     "execution_count": 28,
     "metadata": {},
     "output_type": "execute_result"
    }
   ],
   "source": [
    "data.isnull().sum()"
   ]
  },
  {
   "cell_type": "code",
   "execution_count": 29,
   "id": "1ee126f6",
   "metadata": {},
   "outputs": [],
   "source": [
    "data.dropna(subset=['Time'], inplace = True)"
   ]
  },
  {
   "cell_type": "code",
   "execution_count": 30,
   "id": "63c6c1fa",
   "metadata": {},
   "outputs": [],
   "source": [
    "data.to_csv('datafinalcleaned.csv')"
   ]
  }
 ],
 "metadata": {
  "kernelspec": {
   "display_name": "Python 3 (ipykernel)",
   "language": "python",
   "name": "python3"
  },
  "language_info": {
   "codemirror_mode": {
    "name": "ipython",
    "version": 3
   },
   "file_extension": ".py",
   "mimetype": "text/x-python",
   "name": "python",
   "nbconvert_exporter": "python",
   "pygments_lexer": "ipython3",
   "version": "3.9.12"
  }
 },
 "nbformat": 4,
 "nbformat_minor": 5
}
